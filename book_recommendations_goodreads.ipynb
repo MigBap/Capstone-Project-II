{
 "cells": [
  {
   "cell_type": "markdown",
   "metadata": {},
   "source": [
    "# Springboard - Data Science Career Track"
   ]
  },
  {
   "cell_type": "markdown",
   "metadata": {},
   "source": [
    "## Capstone Project II: Book Recommendations - goodreads.com"
   ]
  },
  {
   "cell_type": "markdown",
   "metadata": {},
   "source": [
    "Data: https://github.com/zygmuntz/goodbooks-10k"
   ]
  },
  {
   "cell_type": "markdown",
   "metadata": {},
   "source": [
    "This dataset contains six million ratings for ten thousand most popular (with most ratings) books. There are also:\n",
    "\n",
    "- books marked to read by the users\n",
    "- book metadata (author, year, etc.)\n",
    "- tags/shelves/genres"
   ]
  },
  {
   "cell_type": "markdown",
   "metadata": {},
   "source": [
    "**Goal of the project: Recommend books to Goodreads.com users**"
   ]
  },
  {
   "cell_type": "markdown",
   "metadata": {},
   "source": [
    "**Table of contents:**"
   ]
  },
  {
   "cell_type": "markdown",
   "metadata": {},
   "source": [
    "[1) Data Inspection and Cleaning](#data_cleaning)\n",
    "\n",
    "[2) Exploratory Data Analysis](#eda)\n",
    "\n",
    "[3) Recommendation system](#recommender)\n"
   ]
  },
  {
   "cell_type": "markdown",
   "metadata": {},
   "source": [
    "**API Key**"
   ]
  },
  {
   "cell_type": "code",
   "execution_count": 1,
   "metadata": {},
   "outputs": [],
   "source": [
    "KEY = '0X3crFDSjHUTEHDPOlaFCg'\n",
    "SECRET = 'ZAxgfS7OnTBnMCzRpwKEwao2TzjZEzO3cVVTWL9W8'"
   ]
  },
  {
   "cell_type": "markdown",
   "metadata": {},
   "source": [
    "#### Libraries"
   ]
  },
  {
   "cell_type": "code",
   "execution_count": 2,
   "metadata": {},
   "outputs": [
    {
     "data": {
      "text/html": [
       "\n",
       "    <div class=\"bk-root\">\n",
       "        <a href=\"https://bokeh.pydata.org\" target=\"_blank\" class=\"bk-logo bk-logo-small bk-logo-notebook\"></a>\n",
       "        <span id=\"1001\">Loading BokehJS ...</span>\n",
       "    </div>"
      ]
     },
     "metadata": {},
     "output_type": "display_data"
    },
    {
     "data": {
      "application/javascript": [
       "\n",
       "(function(root) {\n",
       "  function now() {\n",
       "    return new Date();\n",
       "  }\n",
       "\n",
       "  var force = true;\n",
       "\n",
       "  if (typeof (root._bokeh_onload_callbacks) === \"undefined\" || force === true) {\n",
       "    root._bokeh_onload_callbacks = [];\n",
       "    root._bokeh_is_loading = undefined;\n",
       "  }\n",
       "\n",
       "  var JS_MIME_TYPE = 'application/javascript';\n",
       "  var HTML_MIME_TYPE = 'text/html';\n",
       "  var EXEC_MIME_TYPE = 'application/vnd.bokehjs_exec.v0+json';\n",
       "  var CLASS_NAME = 'output_bokeh rendered_html';\n",
       "\n",
       "  /**\n",
       "   * Render data to the DOM node\n",
       "   */\n",
       "  function render(props, node) {\n",
       "    var script = document.createElement(\"script\");\n",
       "    node.appendChild(script);\n",
       "  }\n",
       "\n",
       "  /**\n",
       "   * Handle when an output is cleared or removed\n",
       "   */\n",
       "  function handleClearOutput(event, handle) {\n",
       "    var cell = handle.cell;\n",
       "\n",
       "    var id = cell.output_area._bokeh_element_id;\n",
       "    var server_id = cell.output_area._bokeh_server_id;\n",
       "    // Clean up Bokeh references\n",
       "    if (id != null && id in Bokeh.index) {\n",
       "      Bokeh.index[id].model.document.clear();\n",
       "      delete Bokeh.index[id];\n",
       "    }\n",
       "\n",
       "    if (server_id !== undefined) {\n",
       "      // Clean up Bokeh references\n",
       "      var cmd = \"from bokeh.io.state import curstate; print(curstate().uuid_to_server['\" + server_id + \"'].get_sessions()[0].document.roots[0]._id)\";\n",
       "      cell.notebook.kernel.execute(cmd, {\n",
       "        iopub: {\n",
       "          output: function(msg) {\n",
       "            var id = msg.content.text.trim();\n",
       "            if (id in Bokeh.index) {\n",
       "              Bokeh.index[id].model.document.clear();\n",
       "              delete Bokeh.index[id];\n",
       "            }\n",
       "          }\n",
       "        }\n",
       "      });\n",
       "      // Destroy server and session\n",
       "      var cmd = \"import bokeh.io.notebook as ion; ion.destroy_server('\" + server_id + \"')\";\n",
       "      cell.notebook.kernel.execute(cmd);\n",
       "    }\n",
       "  }\n",
       "\n",
       "  /**\n",
       "   * Handle when a new output is added\n",
       "   */\n",
       "  function handleAddOutput(event, handle) {\n",
       "    var output_area = handle.output_area;\n",
       "    var output = handle.output;\n",
       "\n",
       "    // limit handleAddOutput to display_data with EXEC_MIME_TYPE content only\n",
       "    if ((output.output_type != \"display_data\") || (!output.data.hasOwnProperty(EXEC_MIME_TYPE))) {\n",
       "      return\n",
       "    }\n",
       "\n",
       "    var toinsert = output_area.element.find(\".\" + CLASS_NAME.split(' ')[0]);\n",
       "\n",
       "    if (output.metadata[EXEC_MIME_TYPE][\"id\"] !== undefined) {\n",
       "      toinsert[toinsert.length - 1].firstChild.textContent = output.data[JS_MIME_TYPE];\n",
       "      // store reference to embed id on output_area\n",
       "      output_area._bokeh_element_id = output.metadata[EXEC_MIME_TYPE][\"id\"];\n",
       "    }\n",
       "    if (output.metadata[EXEC_MIME_TYPE][\"server_id\"] !== undefined) {\n",
       "      var bk_div = document.createElement(\"div\");\n",
       "      bk_div.innerHTML = output.data[HTML_MIME_TYPE];\n",
       "      var script_attrs = bk_div.children[0].attributes;\n",
       "      for (var i = 0; i < script_attrs.length; i++) {\n",
       "        toinsert[toinsert.length - 1].firstChild.setAttribute(script_attrs[i].name, script_attrs[i].value);\n",
       "      }\n",
       "      // store reference to server id on output_area\n",
       "      output_area._bokeh_server_id = output.metadata[EXEC_MIME_TYPE][\"server_id\"];\n",
       "    }\n",
       "  }\n",
       "\n",
       "  function register_renderer(events, OutputArea) {\n",
       "\n",
       "    function append_mime(data, metadata, element) {\n",
       "      // create a DOM node to render to\n",
       "      var toinsert = this.create_output_subarea(\n",
       "        metadata,\n",
       "        CLASS_NAME,\n",
       "        EXEC_MIME_TYPE\n",
       "      );\n",
       "      this.keyboard_manager.register_events(toinsert);\n",
       "      // Render to node\n",
       "      var props = {data: data, metadata: metadata[EXEC_MIME_TYPE]};\n",
       "      render(props, toinsert[toinsert.length - 1]);\n",
       "      element.append(toinsert);\n",
       "      return toinsert\n",
       "    }\n",
       "\n",
       "    /* Handle when an output is cleared or removed */\n",
       "    events.on('clear_output.CodeCell', handleClearOutput);\n",
       "    events.on('delete.Cell', handleClearOutput);\n",
       "\n",
       "    /* Handle when a new output is added */\n",
       "    events.on('output_added.OutputArea', handleAddOutput);\n",
       "\n",
       "    /**\n",
       "     * Register the mime type and append_mime function with output_area\n",
       "     */\n",
       "    OutputArea.prototype.register_mime_type(EXEC_MIME_TYPE, append_mime, {\n",
       "      /* Is output safe? */\n",
       "      safe: true,\n",
       "      /* Index of renderer in `output_area.display_order` */\n",
       "      index: 0\n",
       "    });\n",
       "  }\n",
       "\n",
       "  // register the mime type if in Jupyter Notebook environment and previously unregistered\n",
       "  if (root.Jupyter !== undefined) {\n",
       "    var events = require('base/js/events');\n",
       "    var OutputArea = require('notebook/js/outputarea').OutputArea;\n",
       "\n",
       "    if (OutputArea.prototype.mime_types().indexOf(EXEC_MIME_TYPE) == -1) {\n",
       "      register_renderer(events, OutputArea);\n",
       "    }\n",
       "  }\n",
       "\n",
       "  \n",
       "  if (typeof (root._bokeh_timeout) === \"undefined\" || force === true) {\n",
       "    root._bokeh_timeout = Date.now() + 5000;\n",
       "    root._bokeh_failed_load = false;\n",
       "  }\n",
       "\n",
       "  var NB_LOAD_WARNING = {'data': {'text/html':\n",
       "     \"<div style='background-color: #fdd'>\\n\"+\n",
       "     \"<p>\\n\"+\n",
       "     \"BokehJS does not appear to have successfully loaded. If loading BokehJS from CDN, this \\n\"+\n",
       "     \"may be due to a slow or bad network connection. Possible fixes:\\n\"+\n",
       "     \"</p>\\n\"+\n",
       "     \"<ul>\\n\"+\n",
       "     \"<li>re-rerun `output_notebook()` to attempt to load from CDN again, or</li>\\n\"+\n",
       "     \"<li>use INLINE resources instead, as so:</li>\\n\"+\n",
       "     \"</ul>\\n\"+\n",
       "     \"<code>\\n\"+\n",
       "     \"from bokeh.resources import INLINE\\n\"+\n",
       "     \"output_notebook(resources=INLINE)\\n\"+\n",
       "     \"</code>\\n\"+\n",
       "     \"</div>\"}};\n",
       "\n",
       "  function display_loaded() {\n",
       "    var el = document.getElementById(\"1001\");\n",
       "    if (el != null) {\n",
       "      el.textContent = \"BokehJS is loading...\";\n",
       "    }\n",
       "    if (root.Bokeh !== undefined) {\n",
       "      if (el != null) {\n",
       "        el.textContent = \"BokehJS \" + root.Bokeh.version + \" successfully loaded.\";\n",
       "      }\n",
       "    } else if (Date.now() < root._bokeh_timeout) {\n",
       "      setTimeout(display_loaded, 100)\n",
       "    }\n",
       "  }\n",
       "\n",
       "\n",
       "  function run_callbacks() {\n",
       "    try {\n",
       "      root._bokeh_onload_callbacks.forEach(function(callback) { callback() });\n",
       "    }\n",
       "    finally {\n",
       "      delete root._bokeh_onload_callbacks\n",
       "    }\n",
       "    console.info(\"Bokeh: all callbacks have finished\");\n",
       "  }\n",
       "\n",
       "  function load_libs(js_urls, callback) {\n",
       "    root._bokeh_onload_callbacks.push(callback);\n",
       "    if (root._bokeh_is_loading > 0) {\n",
       "      console.log(\"Bokeh: BokehJS is being loaded, scheduling callback at\", now());\n",
       "      return null;\n",
       "    }\n",
       "    if (js_urls == null || js_urls.length === 0) {\n",
       "      run_callbacks();\n",
       "      return null;\n",
       "    }\n",
       "    console.log(\"Bokeh: BokehJS not loaded, scheduling load and callback at\", now());\n",
       "    root._bokeh_is_loading = js_urls.length;\n",
       "    for (var i = 0; i < js_urls.length; i++) {\n",
       "      var url = js_urls[i];\n",
       "      var s = document.createElement('script');\n",
       "      s.src = url;\n",
       "      s.async = false;\n",
       "      s.onreadystatechange = s.onload = function() {\n",
       "        root._bokeh_is_loading--;\n",
       "        if (root._bokeh_is_loading === 0) {\n",
       "          console.log(\"Bokeh: all BokehJS libraries loaded\");\n",
       "          run_callbacks()\n",
       "        }\n",
       "      };\n",
       "      s.onerror = function() {\n",
       "        console.warn(\"failed to load library \" + url);\n",
       "      };\n",
       "      console.log(\"Bokeh: injecting script tag for BokehJS library: \", url);\n",
       "      document.getElementsByTagName(\"head\")[0].appendChild(s);\n",
       "    }\n",
       "  };var element = document.getElementById(\"1001\");\n",
       "  if (element == null) {\n",
       "    console.log(\"Bokeh: ERROR: autoload.js configured with elementid '1001' but no matching script tag was found. \")\n",
       "    return false;\n",
       "  }\n",
       "\n",
       "  var js_urls = [\"https://cdn.pydata.org/bokeh/release/bokeh-1.0.4.min.js\", \"https://cdn.pydata.org/bokeh/release/bokeh-widgets-1.0.4.min.js\", \"https://cdn.pydata.org/bokeh/release/bokeh-tables-1.0.4.min.js\", \"https://cdn.pydata.org/bokeh/release/bokeh-gl-1.0.4.min.js\"];\n",
       "\n",
       "  var inline_js = [\n",
       "    function(Bokeh) {\n",
       "      Bokeh.set_log_level(\"info\");\n",
       "    },\n",
       "    \n",
       "    function(Bokeh) {\n",
       "      \n",
       "    },\n",
       "    function(Bokeh) {\n",
       "      console.log(\"Bokeh: injecting CSS: https://cdn.pydata.org/bokeh/release/bokeh-1.0.4.min.css\");\n",
       "      Bokeh.embed.inject_css(\"https://cdn.pydata.org/bokeh/release/bokeh-1.0.4.min.css\");\n",
       "      console.log(\"Bokeh: injecting CSS: https://cdn.pydata.org/bokeh/release/bokeh-widgets-1.0.4.min.css\");\n",
       "      Bokeh.embed.inject_css(\"https://cdn.pydata.org/bokeh/release/bokeh-widgets-1.0.4.min.css\");\n",
       "      console.log(\"Bokeh: injecting CSS: https://cdn.pydata.org/bokeh/release/bokeh-tables-1.0.4.min.css\");\n",
       "      Bokeh.embed.inject_css(\"https://cdn.pydata.org/bokeh/release/bokeh-tables-1.0.4.min.css\");\n",
       "    }\n",
       "  ];\n",
       "\n",
       "  function run_inline_js() {\n",
       "    \n",
       "    if ((root.Bokeh !== undefined) || (force === true)) {\n",
       "      for (var i = 0; i < inline_js.length; i++) {\n",
       "        inline_js[i].call(root, root.Bokeh);\n",
       "      }if (force === true) {\n",
       "        display_loaded();\n",
       "      }} else if (Date.now() < root._bokeh_timeout) {\n",
       "      setTimeout(run_inline_js, 100);\n",
       "    } else if (!root._bokeh_failed_load) {\n",
       "      console.log(\"Bokeh: BokehJS failed to load within specified timeout.\");\n",
       "      root._bokeh_failed_load = true;\n",
       "    } else if (force !== true) {\n",
       "      var cell = $(document.getElementById(\"1001\")).parents('.cell').data().cell;\n",
       "      cell.output_area.append_execute_result(NB_LOAD_WARNING)\n",
       "    }\n",
       "\n",
       "  }\n",
       "\n",
       "  if (root._bokeh_is_loading === 0) {\n",
       "    console.log(\"Bokeh: BokehJS loaded, going straight to plotting\");\n",
       "    run_inline_js();\n",
       "  } else {\n",
       "    load_libs(js_urls, function() {\n",
       "      console.log(\"Bokeh: BokehJS plotting callback run at\", now());\n",
       "      run_inline_js();\n",
       "    });\n",
       "  }\n",
       "}(window));"
      ],
      "application/vnd.bokehjs_load.v0+json": "\n(function(root) {\n  function now() {\n    return new Date();\n  }\n\n  var force = true;\n\n  if (typeof (root._bokeh_onload_callbacks) === \"undefined\" || force === true) {\n    root._bokeh_onload_callbacks = [];\n    root._bokeh_is_loading = undefined;\n  }\n\n  \n\n  \n  if (typeof (root._bokeh_timeout) === \"undefined\" || force === true) {\n    root._bokeh_timeout = Date.now() + 5000;\n    root._bokeh_failed_load = false;\n  }\n\n  var NB_LOAD_WARNING = {'data': {'text/html':\n     \"<div style='background-color: #fdd'>\\n\"+\n     \"<p>\\n\"+\n     \"BokehJS does not appear to have successfully loaded. If loading BokehJS from CDN, this \\n\"+\n     \"may be due to a slow or bad network connection. Possible fixes:\\n\"+\n     \"</p>\\n\"+\n     \"<ul>\\n\"+\n     \"<li>re-rerun `output_notebook()` to attempt to load from CDN again, or</li>\\n\"+\n     \"<li>use INLINE resources instead, as so:</li>\\n\"+\n     \"</ul>\\n\"+\n     \"<code>\\n\"+\n     \"from bokeh.resources import INLINE\\n\"+\n     \"output_notebook(resources=INLINE)\\n\"+\n     \"</code>\\n\"+\n     \"</div>\"}};\n\n  function display_loaded() {\n    var el = document.getElementById(\"1001\");\n    if (el != null) {\n      el.textContent = \"BokehJS is loading...\";\n    }\n    if (root.Bokeh !== undefined) {\n      if (el != null) {\n        el.textContent = \"BokehJS \" + root.Bokeh.version + \" successfully loaded.\";\n      }\n    } else if (Date.now() < root._bokeh_timeout) {\n      setTimeout(display_loaded, 100)\n    }\n  }\n\n\n  function run_callbacks() {\n    try {\n      root._bokeh_onload_callbacks.forEach(function(callback) { callback() });\n    }\n    finally {\n      delete root._bokeh_onload_callbacks\n    }\n    console.info(\"Bokeh: all callbacks have finished\");\n  }\n\n  function load_libs(js_urls, callback) {\n    root._bokeh_onload_callbacks.push(callback);\n    if (root._bokeh_is_loading > 0) {\n      console.log(\"Bokeh: BokehJS is being loaded, scheduling callback at\", now());\n      return null;\n    }\n    if (js_urls == null || js_urls.length === 0) {\n      run_callbacks();\n      return null;\n    }\n    console.log(\"Bokeh: BokehJS not loaded, scheduling load and callback at\", now());\n    root._bokeh_is_loading = js_urls.length;\n    for (var i = 0; i < js_urls.length; i++) {\n      var url = js_urls[i];\n      var s = document.createElement('script');\n      s.src = url;\n      s.async = false;\n      s.onreadystatechange = s.onload = function() {\n        root._bokeh_is_loading--;\n        if (root._bokeh_is_loading === 0) {\n          console.log(\"Bokeh: all BokehJS libraries loaded\");\n          run_callbacks()\n        }\n      };\n      s.onerror = function() {\n        console.warn(\"failed to load library \" + url);\n      };\n      console.log(\"Bokeh: injecting script tag for BokehJS library: \", url);\n      document.getElementsByTagName(\"head\")[0].appendChild(s);\n    }\n  };var element = document.getElementById(\"1001\");\n  if (element == null) {\n    console.log(\"Bokeh: ERROR: autoload.js configured with elementid '1001' but no matching script tag was found. \")\n    return false;\n  }\n\n  var js_urls = [\"https://cdn.pydata.org/bokeh/release/bokeh-1.0.4.min.js\", \"https://cdn.pydata.org/bokeh/release/bokeh-widgets-1.0.4.min.js\", \"https://cdn.pydata.org/bokeh/release/bokeh-tables-1.0.4.min.js\", \"https://cdn.pydata.org/bokeh/release/bokeh-gl-1.0.4.min.js\"];\n\n  var inline_js = [\n    function(Bokeh) {\n      Bokeh.set_log_level(\"info\");\n    },\n    \n    function(Bokeh) {\n      \n    },\n    function(Bokeh) {\n      console.log(\"Bokeh: injecting CSS: https://cdn.pydata.org/bokeh/release/bokeh-1.0.4.min.css\");\n      Bokeh.embed.inject_css(\"https://cdn.pydata.org/bokeh/release/bokeh-1.0.4.min.css\");\n      console.log(\"Bokeh: injecting CSS: https://cdn.pydata.org/bokeh/release/bokeh-widgets-1.0.4.min.css\");\n      Bokeh.embed.inject_css(\"https://cdn.pydata.org/bokeh/release/bokeh-widgets-1.0.4.min.css\");\n      console.log(\"Bokeh: injecting CSS: https://cdn.pydata.org/bokeh/release/bokeh-tables-1.0.4.min.css\");\n      Bokeh.embed.inject_css(\"https://cdn.pydata.org/bokeh/release/bokeh-tables-1.0.4.min.css\");\n    }\n  ];\n\n  function run_inline_js() {\n    \n    if ((root.Bokeh !== undefined) || (force === true)) {\n      for (var i = 0; i < inline_js.length; i++) {\n        inline_js[i].call(root, root.Bokeh);\n      }if (force === true) {\n        display_loaded();\n      }} else if (Date.now() < root._bokeh_timeout) {\n      setTimeout(run_inline_js, 100);\n    } else if (!root._bokeh_failed_load) {\n      console.log(\"Bokeh: BokehJS failed to load within specified timeout.\");\n      root._bokeh_failed_load = true;\n    } else if (force !== true) {\n      var cell = $(document.getElementById(\"1001\")).parents('.cell').data().cell;\n      cell.output_area.append_execute_result(NB_LOAD_WARNING)\n    }\n\n  }\n\n  if (root._bokeh_is_loading === 0) {\n    console.log(\"Bokeh: BokehJS loaded, going straight to plotting\");\n    run_inline_js();\n  } else {\n    load_libs(js_urls, function() {\n      console.log(\"Bokeh: BokehJS plotting callback run at\", now());\n      run_inline_js();\n    });\n  }\n}(window));"
     },
     "metadata": {},
     "output_type": "display_data"
    }
   ],
   "source": [
    "%matplotlib inline\n",
    "import pandas as pd\n",
    "import numpy as np\n",
    "import matplotlib.pyplot as plt\n",
    "import matplotlib.lines as mlines\n",
    "import seaborn as sns\n",
    "sns.set()\n",
    "\n",
    "from collections import Counter\n",
    "from itertools import compress\n",
    "from goodreads import client\n",
    "from scipy.stats import normaltest, shapiro\n",
    "\n",
    "from bokeh.io import output_notebook\n",
    "output_notebook()\n",
    "from bokeh.io import output_file, show\n",
    "from bokeh.plotting import figure, ColumnDataSource\n",
    "from bokeh.models import CategoricalColorMapper, Slider, HoverTool, Select\n",
    "from bokeh.layouts import column, widgetbox\n"
   ]
  },
  {
   "cell_type": "markdown",
   "metadata": {},
   "source": [
    "## 1) Data inspection and Cleaning\n",
    "<a id=\"data_cleaning\"></a>"
   ]
  },
  {
   "cell_type": "markdown",
   "metadata": {},
   "source": [
    "### 1.1) Tags"
   ]
  },
  {
   "cell_type": "markdown",
   "metadata": {},
   "source": [
    "***book_tags.csv*** contains tags/shelves/genres assigned by users to books. Tags in this file are represented by their IDs. They are sorted by goodreads_book_id ascending and count descending."
   ]
  },
  {
   "cell_type": "code",
   "execution_count": 3,
   "metadata": {},
   "outputs": [
    {
     "data": {
      "text/html": [
       "<div>\n",
       "<style scoped>\n",
       "    .dataframe tbody tr th:only-of-type {\n",
       "        vertical-align: middle;\n",
       "    }\n",
       "\n",
       "    .dataframe tbody tr th {\n",
       "        vertical-align: top;\n",
       "    }\n",
       "\n",
       "    .dataframe thead th {\n",
       "        text-align: right;\n",
       "    }\n",
       "</style>\n",
       "<table border=\"1\" class=\"dataframe\">\n",
       "  <thead>\n",
       "    <tr style=\"text-align: right;\">\n",
       "      <th></th>\n",
       "      <th>goodreads_book_id</th>\n",
       "      <th>tag_id</th>\n",
       "      <th>count</th>\n",
       "    </tr>\n",
       "  </thead>\n",
       "  <tbody>\n",
       "    <tr>\n",
       "      <th>0</th>\n",
       "      <td>1</td>\n",
       "      <td>30574</td>\n",
       "      <td>167697</td>\n",
       "    </tr>\n",
       "    <tr>\n",
       "      <th>1</th>\n",
       "      <td>1</td>\n",
       "      <td>11305</td>\n",
       "      <td>37174</td>\n",
       "    </tr>\n",
       "    <tr>\n",
       "      <th>2</th>\n",
       "      <td>1</td>\n",
       "      <td>11557</td>\n",
       "      <td>34173</td>\n",
       "    </tr>\n",
       "    <tr>\n",
       "      <th>3</th>\n",
       "      <td>1</td>\n",
       "      <td>8717</td>\n",
       "      <td>12986</td>\n",
       "    </tr>\n",
       "    <tr>\n",
       "      <th>4</th>\n",
       "      <td>1</td>\n",
       "      <td>33114</td>\n",
       "      <td>12716</td>\n",
       "    </tr>\n",
       "  </tbody>\n",
       "</table>\n",
       "</div>"
      ],
      "text/plain": [
       "   goodreads_book_id  tag_id   count\n",
       "0                  1   30574  167697\n",
       "1                  1   11305   37174\n",
       "2                  1   11557   34173\n",
       "3                  1    8717   12986\n",
       "4                  1   33114   12716"
      ]
     },
     "execution_count": 3,
     "metadata": {},
     "output_type": "execute_result"
    }
   ],
   "source": [
    "# book_tags\n",
    "book_tags = pd.read_csv('book_tags.csv')\n",
    "book_tags.head()"
   ]
  },
  {
   "cell_type": "markdown",
   "metadata": {},
   "source": [
    "***tags.csv*** translates tag IDs to names."
   ]
  },
  {
   "cell_type": "code",
   "execution_count": 4,
   "metadata": {},
   "outputs": [
    {
     "data": {
      "text/html": [
       "<div>\n",
       "<style scoped>\n",
       "    .dataframe tbody tr th:only-of-type {\n",
       "        vertical-align: middle;\n",
       "    }\n",
       "\n",
       "    .dataframe tbody tr th {\n",
       "        vertical-align: top;\n",
       "    }\n",
       "\n",
       "    .dataframe thead th {\n",
       "        text-align: right;\n",
       "    }\n",
       "</style>\n",
       "<table border=\"1\" class=\"dataframe\">\n",
       "  <thead>\n",
       "    <tr style=\"text-align: right;\">\n",
       "      <th></th>\n",
       "      <th>tag_id</th>\n",
       "      <th>tag_name</th>\n",
       "    </tr>\n",
       "  </thead>\n",
       "  <tbody>\n",
       "    <tr>\n",
       "      <th>0</th>\n",
       "      <td>0</td>\n",
       "      <td>-</td>\n",
       "    </tr>\n",
       "    <tr>\n",
       "      <th>1</th>\n",
       "      <td>1</td>\n",
       "      <td>--1-</td>\n",
       "    </tr>\n",
       "    <tr>\n",
       "      <th>2</th>\n",
       "      <td>2</td>\n",
       "      <td>--10-</td>\n",
       "    </tr>\n",
       "    <tr>\n",
       "      <th>3</th>\n",
       "      <td>3</td>\n",
       "      <td>--12-</td>\n",
       "    </tr>\n",
       "    <tr>\n",
       "      <th>4</th>\n",
       "      <td>4</td>\n",
       "      <td>--122-</td>\n",
       "    </tr>\n",
       "  </tbody>\n",
       "</table>\n",
       "</div>"
      ],
      "text/plain": [
       "   tag_id tag_name\n",
       "0       0        -\n",
       "1       1     --1-\n",
       "2       2    --10-\n",
       "3       3    --12-\n",
       "4       4   --122-"
      ]
     },
     "execution_count": 4,
     "metadata": {},
     "output_type": "execute_result"
    }
   ],
   "source": [
    "# tags\n",
    "tags = pd.read_csv('tags.csv')\n",
    "tags.head()"
   ]
  },
  {
   "cell_type": "markdown",
   "metadata": {},
   "source": [
    "Let's join these two tables: **tags_df**"
   ]
  },
  {
   "cell_type": "code",
   "execution_count": 5,
   "metadata": {},
   "outputs": [
    {
     "data": {
      "text/html": [
       "<div>\n",
       "<style scoped>\n",
       "    .dataframe tbody tr th:only-of-type {\n",
       "        vertical-align: middle;\n",
       "    }\n",
       "\n",
       "    .dataframe tbody tr th {\n",
       "        vertical-align: top;\n",
       "    }\n",
       "\n",
       "    .dataframe thead th {\n",
       "        text-align: right;\n",
       "    }\n",
       "</style>\n",
       "<table border=\"1\" class=\"dataframe\">\n",
       "  <thead>\n",
       "    <tr style=\"text-align: right;\">\n",
       "      <th></th>\n",
       "      <th>goodreads_book_id</th>\n",
       "      <th>tag_id</th>\n",
       "      <th>count</th>\n",
       "      <th>tag_name</th>\n",
       "    </tr>\n",
       "  </thead>\n",
       "  <tbody>\n",
       "    <tr>\n",
       "      <th>0</th>\n",
       "      <td>865</td>\n",
       "      <td>30574</td>\n",
       "      <td>596234</td>\n",
       "      <td>to-read</td>\n",
       "    </tr>\n",
       "    <tr>\n",
       "      <th>1</th>\n",
       "      <td>2429135</td>\n",
       "      <td>30574</td>\n",
       "      <td>586235</td>\n",
       "      <td>to-read</td>\n",
       "    </tr>\n",
       "    <tr>\n",
       "      <th>2</th>\n",
       "      <td>18143977</td>\n",
       "      <td>30574</td>\n",
       "      <td>505884</td>\n",
       "      <td>to-read</td>\n",
       "    </tr>\n",
       "    <tr>\n",
       "      <th>3</th>\n",
       "      <td>3</td>\n",
       "      <td>30574</td>\n",
       "      <td>496107</td>\n",
       "      <td>to-read</td>\n",
       "    </tr>\n",
       "    <tr>\n",
       "      <th>4</th>\n",
       "      <td>24280</td>\n",
       "      <td>30574</td>\n",
       "      <td>488469</td>\n",
       "      <td>to-read</td>\n",
       "    </tr>\n",
       "    <tr>\n",
       "      <th>5</th>\n",
       "      <td>11235712</td>\n",
       "      <td>30574</td>\n",
       "      <td>474954</td>\n",
       "      <td>to-read</td>\n",
       "    </tr>\n",
       "    <tr>\n",
       "      <th>6</th>\n",
       "      <td>168668</td>\n",
       "      <td>30574</td>\n",
       "      <td>465640</td>\n",
       "      <td>to-read</td>\n",
       "    </tr>\n",
       "    <tr>\n",
       "      <th>7</th>\n",
       "      <td>18405</td>\n",
       "      <td>30574</td>\n",
       "      <td>454565</td>\n",
       "      <td>to-read</td>\n",
       "    </tr>\n",
       "    <tr>\n",
       "      <th>8</th>\n",
       "      <td>4981</td>\n",
       "      <td>30574</td>\n",
       "      <td>443942</td>\n",
       "      <td>to-read</td>\n",
       "    </tr>\n",
       "    <tr>\n",
       "      <th>9</th>\n",
       "      <td>930</td>\n",
       "      <td>30574</td>\n",
       "      <td>436097</td>\n",
       "      <td>to-read</td>\n",
       "    </tr>\n",
       "    <tr>\n",
       "      <th>10</th>\n",
       "      <td>1953</td>\n",
       "      <td>30574</td>\n",
       "      <td>402942</td>\n",
       "      <td>to-read</td>\n",
       "    </tr>\n",
       "    <tr>\n",
       "      <th>11</th>\n",
       "      <td>6186357</td>\n",
       "      <td>30574</td>\n",
       "      <td>380255</td>\n",
       "      <td>to-read</td>\n",
       "    </tr>\n",
       "    <tr>\n",
       "      <th>12</th>\n",
       "      <td>4374400</td>\n",
       "      <td>30574</td>\n",
       "      <td>378509</td>\n",
       "      <td>to-read</td>\n",
       "    </tr>\n",
       "    <tr>\n",
       "      <th>13</th>\n",
       "      <td>5297</td>\n",
       "      <td>30574</td>\n",
       "      <td>358381</td>\n",
       "      <td>to-read</td>\n",
       "    </tr>\n",
       "    <tr>\n",
       "      <th>14</th>\n",
       "      <td>38447</td>\n",
       "      <td>30574</td>\n",
       "      <td>348218</td>\n",
       "      <td>to-read</td>\n",
       "    </tr>\n",
       "    <tr>\n",
       "      <th>15</th>\n",
       "      <td>1934</td>\n",
       "      <td>30574</td>\n",
       "      <td>345105</td>\n",
       "      <td>to-read</td>\n",
       "    </tr>\n",
       "    <tr>\n",
       "      <th>16</th>\n",
       "      <td>9418327</td>\n",
       "      <td>30574</td>\n",
       "      <td>332278</td>\n",
       "      <td>to-read</td>\n",
       "    </tr>\n",
       "    <tr>\n",
       "      <th>17</th>\n",
       "      <td>2612</td>\n",
       "      <td>30574</td>\n",
       "      <td>320295</td>\n",
       "      <td>to-read</td>\n",
       "    </tr>\n",
       "    <tr>\n",
       "      <th>18</th>\n",
       "      <td>7937843</td>\n",
       "      <td>30574</td>\n",
       "      <td>302652</td>\n",
       "      <td>to-read</td>\n",
       "    </tr>\n",
       "    <tr>\n",
       "      <th>19</th>\n",
       "      <td>2187</td>\n",
       "      <td>30574</td>\n",
       "      <td>299006</td>\n",
       "      <td>to-read</td>\n",
       "    </tr>\n",
       "    <tr>\n",
       "      <th>20</th>\n",
       "      <td>17245</td>\n",
       "      <td>30574</td>\n",
       "      <td>287576</td>\n",
       "      <td>to-read</td>\n",
       "    </tr>\n",
       "    <tr>\n",
       "      <th>21</th>\n",
       "      <td>37435</td>\n",
       "      <td>30574</td>\n",
       "      <td>286899</td>\n",
       "      <td>to-read</td>\n",
       "    </tr>\n",
       "    <tr>\n",
       "      <th>22</th>\n",
       "      <td>20910157</td>\n",
       "      <td>30574</td>\n",
       "      <td>286059</td>\n",
       "      <td>to-read</td>\n",
       "    </tr>\n",
       "    <tr>\n",
       "      <th>23</th>\n",
       "      <td>186074</td>\n",
       "      <td>30574</td>\n",
       "      <td>283253</td>\n",
       "      <td>to-read</td>\n",
       "    </tr>\n",
       "    <tr>\n",
       "      <th>24</th>\n",
       "      <td>36072</td>\n",
       "      <td>30574</td>\n",
       "      <td>283148</td>\n",
       "      <td>to-read</td>\n",
       "    </tr>\n",
       "    <tr>\n",
       "      <th>25</th>\n",
       "      <td>18135</td>\n",
       "      <td>30574</td>\n",
       "      <td>279627</td>\n",
       "      <td>to-read</td>\n",
       "    </tr>\n",
       "    <tr>\n",
       "      <th>26</th>\n",
       "      <td>375802</td>\n",
       "      <td>30574</td>\n",
       "      <td>277113</td>\n",
       "      <td>to-read</td>\n",
       "    </tr>\n",
       "    <tr>\n",
       "      <th>27</th>\n",
       "      <td>119322</td>\n",
       "      <td>30574</td>\n",
       "      <td>276683</td>\n",
       "      <td>to-read</td>\n",
       "    </tr>\n",
       "    <tr>\n",
       "      <th>28</th>\n",
       "      <td>21853621</td>\n",
       "      <td>30574</td>\n",
       "      <td>275551</td>\n",
       "      <td>to-read</td>\n",
       "    </tr>\n",
       "    <tr>\n",
       "      <th>29</th>\n",
       "      <td>16101128</td>\n",
       "      <td>30574</td>\n",
       "      <td>271738</td>\n",
       "      <td>to-read</td>\n",
       "    </tr>\n",
       "    <tr>\n",
       "      <th>...</th>\n",
       "      <td>...</td>\n",
       "      <td>...</td>\n",
       "      <td>...</td>\n",
       "      <td>...</td>\n",
       "    </tr>\n",
       "    <tr>\n",
       "      <th>999882</th>\n",
       "      <td>327242</td>\n",
       "      <td>2592</td>\n",
       "      <td>1</td>\n",
       "      <td>animation-books</td>\n",
       "    </tr>\n",
       "    <tr>\n",
       "      <th>999883</th>\n",
       "      <td>327242</td>\n",
       "      <td>3078</td>\n",
       "      <td>1</td>\n",
       "      <td>art-portrait</td>\n",
       "    </tr>\n",
       "    <tr>\n",
       "      <th>999884</th>\n",
       "      <td>327242</td>\n",
       "      <td>5543</td>\n",
       "      <td>1</td>\n",
       "      <td>box-23</td>\n",
       "    </tr>\n",
       "    <tr>\n",
       "      <th>999885</th>\n",
       "      <td>327246</td>\n",
       "      <td>5914</td>\n",
       "      <td>1</td>\n",
       "      <td>bulk</td>\n",
       "    </tr>\n",
       "    <tr>\n",
       "      <th>999886</th>\n",
       "      <td>327246</td>\n",
       "      <td>33092</td>\n",
       "      <td>1</td>\n",
       "      <td>yet-to-purchase</td>\n",
       "    </tr>\n",
       "    <tr>\n",
       "      <th>999887</th>\n",
       "      <td>2815949</td>\n",
       "      <td>5255</td>\n",
       "      <td>1</td>\n",
       "      <td>books-i-used-to-own</td>\n",
       "    </tr>\n",
       "    <tr>\n",
       "      <th>999888</th>\n",
       "      <td>327246</td>\n",
       "      <td>5255</td>\n",
       "      <td>1</td>\n",
       "      <td>books-i-used-to-own</td>\n",
       "    </tr>\n",
       "    <tr>\n",
       "      <th>999889</th>\n",
       "      <td>97390</td>\n",
       "      <td>23551</td>\n",
       "      <td>1</td>\n",
       "      <td>physical-book</td>\n",
       "    </tr>\n",
       "    <tr>\n",
       "      <th>999890</th>\n",
       "      <td>327242</td>\n",
       "      <td>29498</td>\n",
       "      <td>1</td>\n",
       "      <td>tekenen</td>\n",
       "    </tr>\n",
       "    <tr>\n",
       "      <th>999891</th>\n",
       "      <td>327242</td>\n",
       "      <td>21586</td>\n",
       "      <td>1</td>\n",
       "      <td>nikhil</td>\n",
       "    </tr>\n",
       "    <tr>\n",
       "      <th>999892</th>\n",
       "      <td>327242</td>\n",
       "      <td>31959</td>\n",
       "      <td>1</td>\n",
       "      <td>visual-wonders</td>\n",
       "    </tr>\n",
       "    <tr>\n",
       "      <th>999893</th>\n",
       "      <td>327246</td>\n",
       "      <td>15572</td>\n",
       "      <td>1</td>\n",
       "      <td>informational-literature</td>\n",
       "    </tr>\n",
       "    <tr>\n",
       "      <th>999894</th>\n",
       "      <td>327242</td>\n",
       "      <td>15572</td>\n",
       "      <td>1</td>\n",
       "      <td>informational-literature</td>\n",
       "    </tr>\n",
       "    <tr>\n",
       "      <th>999895</th>\n",
       "      <td>327246</td>\n",
       "      <td>3078</td>\n",
       "      <td>1</td>\n",
       "      <td>art-portrait</td>\n",
       "    </tr>\n",
       "    <tr>\n",
       "      <th>999896</th>\n",
       "      <td>140345</td>\n",
       "      <td>23551</td>\n",
       "      <td>1</td>\n",
       "      <td>physical-book</td>\n",
       "    </tr>\n",
       "    <tr>\n",
       "      <th>999897</th>\n",
       "      <td>327242</td>\n",
       "      <td>1568</td>\n",
       "      <td>1</td>\n",
       "      <td>actual-books</td>\n",
       "    </tr>\n",
       "    <tr>\n",
       "      <th>999898</th>\n",
       "      <td>327242</td>\n",
       "      <td>12620</td>\n",
       "      <td>1</td>\n",
       "      <td>from-the-art-days</td>\n",
       "    </tr>\n",
       "    <tr>\n",
       "      <th>999899</th>\n",
       "      <td>327242</td>\n",
       "      <td>32122</td>\n",
       "      <td>1</td>\n",
       "      <td>want-to-read-turkish</td>\n",
       "    </tr>\n",
       "    <tr>\n",
       "      <th>999900</th>\n",
       "      <td>327242</td>\n",
       "      <td>13595</td>\n",
       "      <td>1</td>\n",
       "      <td>graphical</td>\n",
       "    </tr>\n",
       "    <tr>\n",
       "      <th>999901</th>\n",
       "      <td>327246</td>\n",
       "      <td>5141</td>\n",
       "      <td>1</td>\n",
       "      <td>books-for-creators-and-artists</td>\n",
       "    </tr>\n",
       "    <tr>\n",
       "      <th>999902</th>\n",
       "      <td>327242</td>\n",
       "      <td>5141</td>\n",
       "      <td>1</td>\n",
       "      <td>books-for-creators-and-artists</td>\n",
       "    </tr>\n",
       "    <tr>\n",
       "      <th>999903</th>\n",
       "      <td>327242</td>\n",
       "      <td>22343</td>\n",
       "      <td>1</td>\n",
       "      <td>on-my-bookself-irl</td>\n",
       "    </tr>\n",
       "    <tr>\n",
       "      <th>999904</th>\n",
       "      <td>320700</td>\n",
       "      <td>28881</td>\n",
       "      <td>1</td>\n",
       "      <td>sub</td>\n",
       "    </tr>\n",
       "    <tr>\n",
       "      <th>999905</th>\n",
       "      <td>327242</td>\n",
       "      <td>32111</td>\n",
       "      <td>1</td>\n",
       "      <td>want-to-read-i-have</td>\n",
       "    </tr>\n",
       "    <tr>\n",
       "      <th>999906</th>\n",
       "      <td>18607805</td>\n",
       "      <td>17246</td>\n",
       "      <td>-1</td>\n",
       "      <td>kindle-library</td>\n",
       "    </tr>\n",
       "    <tr>\n",
       "      <th>999907</th>\n",
       "      <td>18607805</td>\n",
       "      <td>6552</td>\n",
       "      <td>-1</td>\n",
       "      <td>challenge-2013</td>\n",
       "    </tr>\n",
       "    <tr>\n",
       "      <th>999908</th>\n",
       "      <td>18607805</td>\n",
       "      <td>2272</td>\n",
       "      <td>-1</td>\n",
       "      <td>america-in-retreat</td>\n",
       "    </tr>\n",
       "    <tr>\n",
       "      <th>999909</th>\n",
       "      <td>22931009</td>\n",
       "      <td>9221</td>\n",
       "      <td>-1</td>\n",
       "      <td>default</td>\n",
       "    </tr>\n",
       "    <tr>\n",
       "      <th>999910</th>\n",
       "      <td>18607805</td>\n",
       "      <td>21619</td>\n",
       "      <td>-1</td>\n",
       "      <td>no-audio</td>\n",
       "    </tr>\n",
       "    <tr>\n",
       "      <th>999911</th>\n",
       "      <td>18607805</td>\n",
       "      <td>10197</td>\n",
       "      <td>-1</td>\n",
       "      <td>ebook</td>\n",
       "    </tr>\n",
       "  </tbody>\n",
       "</table>\n",
       "<p>999912 rows × 4 columns</p>\n",
       "</div>"
      ],
      "text/plain": [
       "        goodreads_book_id  tag_id   count                        tag_name\n",
       "0                     865   30574  596234                         to-read\n",
       "1                 2429135   30574  586235                         to-read\n",
       "2                18143977   30574  505884                         to-read\n",
       "3                       3   30574  496107                         to-read\n",
       "4                   24280   30574  488469                         to-read\n",
       "5                11235712   30574  474954                         to-read\n",
       "6                  168668   30574  465640                         to-read\n",
       "7                   18405   30574  454565                         to-read\n",
       "8                    4981   30574  443942                         to-read\n",
       "9                     930   30574  436097                         to-read\n",
       "10                   1953   30574  402942                         to-read\n",
       "11                6186357   30574  380255                         to-read\n",
       "12                4374400   30574  378509                         to-read\n",
       "13                   5297   30574  358381                         to-read\n",
       "14                  38447   30574  348218                         to-read\n",
       "15                   1934   30574  345105                         to-read\n",
       "16                9418327   30574  332278                         to-read\n",
       "17                   2612   30574  320295                         to-read\n",
       "18                7937843   30574  302652                         to-read\n",
       "19                   2187   30574  299006                         to-read\n",
       "20                  17245   30574  287576                         to-read\n",
       "21                  37435   30574  286899                         to-read\n",
       "22               20910157   30574  286059                         to-read\n",
       "23                 186074   30574  283253                         to-read\n",
       "24                  36072   30574  283148                         to-read\n",
       "25                  18135   30574  279627                         to-read\n",
       "26                 375802   30574  277113                         to-read\n",
       "27                 119322   30574  276683                         to-read\n",
       "28               21853621   30574  275551                         to-read\n",
       "29               16101128   30574  271738                         to-read\n",
       "...                   ...     ...     ...                             ...\n",
       "999882             327242    2592       1                 animation-books\n",
       "999883             327242    3078       1                    art-portrait\n",
       "999884             327242    5543       1                          box-23\n",
       "999885             327246    5914       1                            bulk\n",
       "999886             327246   33092       1                 yet-to-purchase\n",
       "999887            2815949    5255       1             books-i-used-to-own\n",
       "999888             327246    5255       1             books-i-used-to-own\n",
       "999889              97390   23551       1                   physical-book\n",
       "999890             327242   29498       1                         tekenen\n",
       "999891             327242   21586       1                          nikhil\n",
       "999892             327242   31959       1                  visual-wonders\n",
       "999893             327246   15572       1        informational-literature\n",
       "999894             327242   15572       1        informational-literature\n",
       "999895             327246    3078       1                    art-portrait\n",
       "999896             140345   23551       1                   physical-book\n",
       "999897             327242    1568       1                    actual-books\n",
       "999898             327242   12620       1               from-the-art-days\n",
       "999899             327242   32122       1            want-to-read-turkish\n",
       "999900             327242   13595       1                       graphical\n",
       "999901             327246    5141       1  books-for-creators-and-artists\n",
       "999902             327242    5141       1  books-for-creators-and-artists\n",
       "999903             327242   22343       1              on-my-bookself-irl\n",
       "999904             320700   28881       1                             sub\n",
       "999905             327242   32111       1             want-to-read-i-have\n",
       "999906           18607805   17246      -1                  kindle-library\n",
       "999907           18607805    6552      -1                  challenge-2013\n",
       "999908           18607805    2272      -1              america-in-retreat\n",
       "999909           22931009    9221      -1                         default\n",
       "999910           18607805   21619      -1                        no-audio\n",
       "999911           18607805   10197      -1                           ebook\n",
       "\n",
       "[999912 rows x 4 columns]"
      ]
     },
     "execution_count": 5,
     "metadata": {},
     "output_type": "execute_result"
    }
   ],
   "source": [
    "# tags_df\n",
    "tags_df = pd.merge(book_tags, tags, on='tag_id').sort_values('count', ascending=False).reset_index(drop=True)\n",
    "tags_df"
   ]
  },
  {
   "cell_type": "markdown",
   "metadata": {},
   "source": [
    "I don't understand what the last 6 negative values represent in the 'count' column, so I'm going to disconsider them"
   ]
  },
  {
   "cell_type": "code",
   "execution_count": 6,
   "metadata": {},
   "outputs": [
    {
     "data": {
      "text/html": [
       "<div>\n",
       "<style scoped>\n",
       "    .dataframe tbody tr th:only-of-type {\n",
       "        vertical-align: middle;\n",
       "    }\n",
       "\n",
       "    .dataframe tbody tr th {\n",
       "        vertical-align: top;\n",
       "    }\n",
       "\n",
       "    .dataframe thead th {\n",
       "        text-align: right;\n",
       "    }\n",
       "</style>\n",
       "<table border=\"1\" class=\"dataframe\">\n",
       "  <thead>\n",
       "    <tr style=\"text-align: right;\">\n",
       "      <th></th>\n",
       "      <th>goodreads_book_id</th>\n",
       "      <th>tag_id</th>\n",
       "      <th>count</th>\n",
       "      <th>tag_name</th>\n",
       "    </tr>\n",
       "  </thead>\n",
       "  <tbody>\n",
       "    <tr>\n",
       "      <th>999901</th>\n",
       "      <td>327246</td>\n",
       "      <td>5141</td>\n",
       "      <td>1</td>\n",
       "      <td>books-for-creators-and-artists</td>\n",
       "    </tr>\n",
       "    <tr>\n",
       "      <th>999902</th>\n",
       "      <td>327242</td>\n",
       "      <td>5141</td>\n",
       "      <td>1</td>\n",
       "      <td>books-for-creators-and-artists</td>\n",
       "    </tr>\n",
       "    <tr>\n",
       "      <th>999903</th>\n",
       "      <td>327242</td>\n",
       "      <td>22343</td>\n",
       "      <td>1</td>\n",
       "      <td>on-my-bookself-irl</td>\n",
       "    </tr>\n",
       "    <tr>\n",
       "      <th>999904</th>\n",
       "      <td>320700</td>\n",
       "      <td>28881</td>\n",
       "      <td>1</td>\n",
       "      <td>sub</td>\n",
       "    </tr>\n",
       "    <tr>\n",
       "      <th>999905</th>\n",
       "      <td>327242</td>\n",
       "      <td>32111</td>\n",
       "      <td>1</td>\n",
       "      <td>want-to-read-i-have</td>\n",
       "    </tr>\n",
       "  </tbody>\n",
       "</table>\n",
       "</div>"
      ],
      "text/plain": [
       "        goodreads_book_id  tag_id  count                        tag_name\n",
       "999901             327246    5141      1  books-for-creators-and-artists\n",
       "999902             327242    5141      1  books-for-creators-and-artists\n",
       "999903             327242   22343      1              on-my-bookself-irl\n",
       "999904             320700   28881      1                             sub\n",
       "999905             327242   32111      1             want-to-read-i-have"
      ]
     },
     "execution_count": 6,
     "metadata": {},
     "output_type": "execute_result"
    }
   ],
   "source": [
    "# disconsider count negative rows\n",
    "tags_df = tags_df[:-6]\n",
    "tags_df.tail()"
   ]
  },
  {
   "cell_type": "code",
   "execution_count": 7,
   "metadata": {},
   "outputs": [
    {
     "name": "stdout",
     "output_type": "stream",
     "text": [
      "<class 'pandas.core.frame.DataFrame'>\n",
      "RangeIndex: 999906 entries, 0 to 999905\n",
      "Data columns (total 4 columns):\n",
      "goodreads_book_id    999906 non-null int64\n",
      "tag_id               999906 non-null int64\n",
      "count                999906 non-null int64\n",
      "tag_name             999906 non-null object\n",
      "dtypes: int64(3), object(1)\n",
      "memory usage: 30.5+ MB\n"
     ]
    }
   ],
   "source": [
    "# info\n",
    "tags_df.info()"
   ]
  },
  {
   "cell_type": "code",
   "execution_count": 8,
   "metadata": {},
   "outputs": [
    {
     "data": {
      "text/plain": [
       "34250"
      ]
     },
     "execution_count": 8,
     "metadata": {},
     "output_type": "execute_result"
    }
   ],
   "source": [
    "# number of unique tags\n",
    "assert len(tags_df.tag_id.unique()) == len(tags_df.tag_name.unique())\n",
    "\n",
    "len(tags_df.tag_name.unique())"
   ]
  },
  {
   "cell_type": "code",
   "execution_count": 9,
   "metadata": {},
   "outputs": [
    {
     "data": {
      "text/plain": [
       "to-read              9983\n",
       "favorites            9881\n",
       "owned                9858\n",
       "books-i-own          9799\n",
       "currently-reading    9776\n",
       "library              9415\n",
       "owned-books          9221\n",
       "fiction              9097\n",
       "to-buy               8692\n",
       "kindle               8316\n",
       "Name: tag_name, dtype: int64"
      ]
     },
     "execution_count": 9,
     "metadata": {},
     "output_type": "execute_result"
    }
   ],
   "source": [
    "# most common tags\n",
    "tags_df.tag_name.value_counts().head(10)"
   ]
  },
  {
   "cell_type": "markdown",
   "metadata": {},
   "source": [
    "### 1.2) Ratings"
   ]
  },
  {
   "cell_type": "markdown",
   "metadata": {},
   "source": [
    "***ratings.csv*** contains almost 6 million book ratings by users. Ratings can go from one to five stars, where:\n",
    "\n",
    " - **5 stars**: \"it was amazing\"\n",
    " - **4 stars**: \"really liked it\"\n",
    " - **3 stars**: \"liked it\"\n",
    " - **2 stars**: \"it was ok\"\n",
    " - **1 star**: \"did not like it\"\n",
    " \n"
   ]
  },
  {
   "cell_type": "code",
   "execution_count": 10,
   "metadata": {},
   "outputs": [
    {
     "data": {
      "text/html": [
       "<div>\n",
       "<style scoped>\n",
       "    .dataframe tbody tr th:only-of-type {\n",
       "        vertical-align: middle;\n",
       "    }\n",
       "\n",
       "    .dataframe tbody tr th {\n",
       "        vertical-align: top;\n",
       "    }\n",
       "\n",
       "    .dataframe thead th {\n",
       "        text-align: right;\n",
       "    }\n",
       "</style>\n",
       "<table border=\"1\" class=\"dataframe\">\n",
       "  <thead>\n",
       "    <tr style=\"text-align: right;\">\n",
       "      <th></th>\n",
       "      <th>user_id</th>\n",
       "      <th>book_id</th>\n",
       "      <th>rating</th>\n",
       "    </tr>\n",
       "  </thead>\n",
       "  <tbody>\n",
       "    <tr>\n",
       "      <th>0</th>\n",
       "      <td>1</td>\n",
       "      <td>258</td>\n",
       "      <td>5</td>\n",
       "    </tr>\n",
       "    <tr>\n",
       "      <th>1</th>\n",
       "      <td>2</td>\n",
       "      <td>4081</td>\n",
       "      <td>4</td>\n",
       "    </tr>\n",
       "    <tr>\n",
       "      <th>2</th>\n",
       "      <td>2</td>\n",
       "      <td>260</td>\n",
       "      <td>5</td>\n",
       "    </tr>\n",
       "    <tr>\n",
       "      <th>3</th>\n",
       "      <td>2</td>\n",
       "      <td>9296</td>\n",
       "      <td>5</td>\n",
       "    </tr>\n",
       "    <tr>\n",
       "      <th>4</th>\n",
       "      <td>2</td>\n",
       "      <td>2318</td>\n",
       "      <td>3</td>\n",
       "    </tr>\n",
       "  </tbody>\n",
       "</table>\n",
       "</div>"
      ],
      "text/plain": [
       "   user_id  book_id  rating\n",
       "0        1      258       5\n",
       "1        2     4081       4\n",
       "2        2      260       5\n",
       "3        2     9296       5\n",
       "4        2     2318       3"
      ]
     },
     "execution_count": 10,
     "metadata": {},
     "output_type": "execute_result"
    }
   ],
   "source": [
    "# ratings\n",
    "ratings = pd.read_csv('ratings.csv')\n",
    "ratings.head()"
   ]
  },
  {
   "cell_type": "code",
   "execution_count": 11,
   "metadata": {},
   "outputs": [
    {
     "name": "stdout",
     "output_type": "stream",
     "text": [
      "<class 'pandas.core.frame.DataFrame'>\n",
      "RangeIndex: 5976479 entries, 0 to 5976478\n",
      "Data columns (total 3 columns):\n",
      "user_id    int64\n",
      "book_id    int64\n",
      "rating     int64\n",
      "dtypes: int64(3)\n",
      "memory usage: 136.8 MB\n"
     ]
    }
   ],
   "source": [
    "# info\n",
    "ratings.info()"
   ]
  },
  {
   "cell_type": "code",
   "execution_count": 12,
   "metadata": {},
   "outputs": [
    {
     "data": {
      "text/plain": [
       "10000"
      ]
     },
     "execution_count": 12,
     "metadata": {},
     "output_type": "execute_result"
    }
   ],
   "source": [
    "# number of books\n",
    "len(ratings.book_id.unique())"
   ]
  },
  {
   "cell_type": "code",
   "execution_count": 13,
   "metadata": {},
   "outputs": [
    {
     "data": {
      "text/plain": [
       "53424"
      ]
     },
     "execution_count": 13,
     "metadata": {},
     "output_type": "execute_result"
    }
   ],
   "source": [
    "# number of unique users\n",
    "len(ratings.user_id.unique())"
   ]
  },
  {
   "cell_type": "code",
   "execution_count": 14,
   "metadata": {},
   "outputs": [
    {
     "data": {
      "text/html": [
       "<div>\n",
       "<style scoped>\n",
       "    .dataframe tbody tr th:only-of-type {\n",
       "        vertical-align: middle;\n",
       "    }\n",
       "\n",
       "    .dataframe tbody tr th {\n",
       "        vertical-align: top;\n",
       "    }\n",
       "\n",
       "    .dataframe thead th {\n",
       "        text-align: right;\n",
       "    }\n",
       "</style>\n",
       "<table border=\"1\" class=\"dataframe\">\n",
       "  <thead>\n",
       "    <tr style=\"text-align: right;\">\n",
       "      <th></th>\n",
       "      <th>user_id</th>\n",
       "      <th>book_id</th>\n",
       "      <th>rating</th>\n",
       "    </tr>\n",
       "  </thead>\n",
       "  <tbody>\n",
       "  </tbody>\n",
       "</table>\n",
       "</div>"
      ],
      "text/plain": [
       "Empty DataFrame\n",
       "Columns: [user_id, book_id, rating]\n",
       "Index: []"
      ]
     },
     "execution_count": 14,
     "metadata": {},
     "output_type": "execute_result"
    }
   ],
   "source": [
    "# check if there are book ratings duplications by users\n",
    "ratings[ratings[['user_id', 'book_id']].duplicated()]"
   ]
  },
  {
   "cell_type": "markdown",
   "metadata": {},
   "source": [
    "### 1.3) to read"
   ]
  },
  {
   "cell_type": "markdown",
   "metadata": {},
   "source": [
    "***to_read.csv*** provides IDs of the books marked \"to read\" by each user."
   ]
  },
  {
   "cell_type": "code",
   "execution_count": 15,
   "metadata": {},
   "outputs": [
    {
     "data": {
      "text/html": [
       "<div>\n",
       "<style scoped>\n",
       "    .dataframe tbody tr th:only-of-type {\n",
       "        vertical-align: middle;\n",
       "    }\n",
       "\n",
       "    .dataframe tbody tr th {\n",
       "        vertical-align: top;\n",
       "    }\n",
       "\n",
       "    .dataframe thead th {\n",
       "        text-align: right;\n",
       "    }\n",
       "</style>\n",
       "<table border=\"1\" class=\"dataframe\">\n",
       "  <thead>\n",
       "    <tr style=\"text-align: right;\">\n",
       "      <th></th>\n",
       "      <th>user_id</th>\n",
       "      <th>book_id</th>\n",
       "    </tr>\n",
       "  </thead>\n",
       "  <tbody>\n",
       "    <tr>\n",
       "      <th>0</th>\n",
       "      <td>9</td>\n",
       "      <td>8</td>\n",
       "    </tr>\n",
       "    <tr>\n",
       "      <th>1</th>\n",
       "      <td>15</td>\n",
       "      <td>398</td>\n",
       "    </tr>\n",
       "    <tr>\n",
       "      <th>2</th>\n",
       "      <td>15</td>\n",
       "      <td>275</td>\n",
       "    </tr>\n",
       "    <tr>\n",
       "      <th>3</th>\n",
       "      <td>37</td>\n",
       "      <td>7173</td>\n",
       "    </tr>\n",
       "    <tr>\n",
       "      <th>4</th>\n",
       "      <td>34</td>\n",
       "      <td>380</td>\n",
       "    </tr>\n",
       "  </tbody>\n",
       "</table>\n",
       "</div>"
      ],
      "text/plain": [
       "   user_id  book_id\n",
       "0        9        8\n",
       "1       15      398\n",
       "2       15      275\n",
       "3       37     7173\n",
       "4       34      380"
      ]
     },
     "execution_count": 15,
     "metadata": {},
     "output_type": "execute_result"
    }
   ],
   "source": [
    "# to_read\n",
    "to_read = pd.read_csv('to_read.csv')\n",
    "to_read.head()"
   ]
  },
  {
   "cell_type": "code",
   "execution_count": 16,
   "metadata": {},
   "outputs": [
    {
     "name": "stdout",
     "output_type": "stream",
     "text": [
      "<class 'pandas.core.frame.DataFrame'>\n",
      "RangeIndex: 912705 entries, 0 to 912704\n",
      "Data columns (total 2 columns):\n",
      "user_id    912705 non-null int64\n",
      "book_id    912705 non-null int64\n",
      "dtypes: int64(2)\n",
      "memory usage: 13.9 MB\n"
     ]
    }
   ],
   "source": [
    "# to_read info\n",
    "to_read.info()"
   ]
  },
  {
   "cell_type": "markdown",
   "metadata": {},
   "source": [
    "### 1.4) books"
   ]
  },
  {
   "cell_type": "markdown",
   "metadata": {},
   "source": [
    "***books.csv*** has metadata for each book (goodreads IDs, authors, title, average rating, etc.). "
   ]
  },
  {
   "cell_type": "markdown",
   "metadata": {},
   "source": [
    "**goodreads IDs**:\n",
    "    \n",
    "Each book may have many editions. **goodreads_book_id** and **best_book_id** generally point to the most popular edition of a given book, while goodreads **work_id** refers to the book in the abstract sense.\n",
    "\n",
    "It's possible to use the goodreads book and work IDs to create URLs as follows:\n",
    "\n",
    "- https://www.goodreads.com/book/show/17397466\n",
    "- https://www.goodreads.com/work/editions/24219959\n",
    "\n",
    "Note that **book_id** in *ratings.csv* and *to_read.csv* maps to **work_id**, not to goodreads_book_id, **meaning that ratings for different editions are aggregated**."
   ]
  },
  {
   "cell_type": "code",
   "execution_count": 17,
   "metadata": {},
   "outputs": [
    {
     "data": {
      "text/html": [
       "<div>\n",
       "<style scoped>\n",
       "    .dataframe tbody tr th:only-of-type {\n",
       "        vertical-align: middle;\n",
       "    }\n",
       "\n",
       "    .dataframe tbody tr th {\n",
       "        vertical-align: top;\n",
       "    }\n",
       "\n",
       "    .dataframe thead th {\n",
       "        text-align: right;\n",
       "    }\n",
       "</style>\n",
       "<table border=\"1\" class=\"dataframe\">\n",
       "  <thead>\n",
       "    <tr style=\"text-align: right;\">\n",
       "      <th></th>\n",
       "      <th>book_id</th>\n",
       "      <th>goodreads_book_id</th>\n",
       "      <th>best_book_id</th>\n",
       "      <th>work_id</th>\n",
       "      <th>books_count</th>\n",
       "      <th>isbn</th>\n",
       "      <th>isbn13</th>\n",
       "      <th>authors</th>\n",
       "      <th>original_publication_year</th>\n",
       "      <th>original_title</th>\n",
       "      <th>...</th>\n",
       "      <th>ratings_count</th>\n",
       "      <th>work_ratings_count</th>\n",
       "      <th>work_text_reviews_count</th>\n",
       "      <th>ratings_1</th>\n",
       "      <th>ratings_2</th>\n",
       "      <th>ratings_3</th>\n",
       "      <th>ratings_4</th>\n",
       "      <th>ratings_5</th>\n",
       "      <th>image_url</th>\n",
       "      <th>small_image_url</th>\n",
       "    </tr>\n",
       "  </thead>\n",
       "  <tbody>\n",
       "    <tr>\n",
       "      <th>0</th>\n",
       "      <td>1</td>\n",
       "      <td>2767052</td>\n",
       "      <td>2767052</td>\n",
       "      <td>2792775</td>\n",
       "      <td>272</td>\n",
       "      <td>439023483</td>\n",
       "      <td>9.780439e+12</td>\n",
       "      <td>Suzanne Collins</td>\n",
       "      <td>2008.0</td>\n",
       "      <td>The Hunger Games</td>\n",
       "      <td>...</td>\n",
       "      <td>4780653</td>\n",
       "      <td>4942365</td>\n",
       "      <td>155254</td>\n",
       "      <td>66715</td>\n",
       "      <td>127936</td>\n",
       "      <td>560092</td>\n",
       "      <td>1481305</td>\n",
       "      <td>2706317</td>\n",
       "      <td>https://images.gr-assets.com/books/1447303603m...</td>\n",
       "      <td>https://images.gr-assets.com/books/1447303603s...</td>\n",
       "    </tr>\n",
       "    <tr>\n",
       "      <th>1</th>\n",
       "      <td>2</td>\n",
       "      <td>3</td>\n",
       "      <td>3</td>\n",
       "      <td>4640799</td>\n",
       "      <td>491</td>\n",
       "      <td>439554934</td>\n",
       "      <td>9.780440e+12</td>\n",
       "      <td>J.K. Rowling, Mary GrandPré</td>\n",
       "      <td>1997.0</td>\n",
       "      <td>Harry Potter and the Philosopher's Stone</td>\n",
       "      <td>...</td>\n",
       "      <td>4602479</td>\n",
       "      <td>4800065</td>\n",
       "      <td>75867</td>\n",
       "      <td>75504</td>\n",
       "      <td>101676</td>\n",
       "      <td>455024</td>\n",
       "      <td>1156318</td>\n",
       "      <td>3011543</td>\n",
       "      <td>https://images.gr-assets.com/books/1474154022m...</td>\n",
       "      <td>https://images.gr-assets.com/books/1474154022s...</td>\n",
       "    </tr>\n",
       "    <tr>\n",
       "      <th>2</th>\n",
       "      <td>3</td>\n",
       "      <td>41865</td>\n",
       "      <td>41865</td>\n",
       "      <td>3212258</td>\n",
       "      <td>226</td>\n",
       "      <td>316015849</td>\n",
       "      <td>9.780316e+12</td>\n",
       "      <td>Stephenie Meyer</td>\n",
       "      <td>2005.0</td>\n",
       "      <td>Twilight</td>\n",
       "      <td>...</td>\n",
       "      <td>3866839</td>\n",
       "      <td>3916824</td>\n",
       "      <td>95009</td>\n",
       "      <td>456191</td>\n",
       "      <td>436802</td>\n",
       "      <td>793319</td>\n",
       "      <td>875073</td>\n",
       "      <td>1355439</td>\n",
       "      <td>https://images.gr-assets.com/books/1361039443m...</td>\n",
       "      <td>https://images.gr-assets.com/books/1361039443s...</td>\n",
       "    </tr>\n",
       "    <tr>\n",
       "      <th>3</th>\n",
       "      <td>4</td>\n",
       "      <td>2657</td>\n",
       "      <td>2657</td>\n",
       "      <td>3275794</td>\n",
       "      <td>487</td>\n",
       "      <td>61120081</td>\n",
       "      <td>9.780061e+12</td>\n",
       "      <td>Harper Lee</td>\n",
       "      <td>1960.0</td>\n",
       "      <td>To Kill a Mockingbird</td>\n",
       "      <td>...</td>\n",
       "      <td>3198671</td>\n",
       "      <td>3340896</td>\n",
       "      <td>72586</td>\n",
       "      <td>60427</td>\n",
       "      <td>117415</td>\n",
       "      <td>446835</td>\n",
       "      <td>1001952</td>\n",
       "      <td>1714267</td>\n",
       "      <td>https://images.gr-assets.com/books/1361975680m...</td>\n",
       "      <td>https://images.gr-assets.com/books/1361975680s...</td>\n",
       "    </tr>\n",
       "    <tr>\n",
       "      <th>4</th>\n",
       "      <td>5</td>\n",
       "      <td>4671</td>\n",
       "      <td>4671</td>\n",
       "      <td>245494</td>\n",
       "      <td>1356</td>\n",
       "      <td>743273567</td>\n",
       "      <td>9.780743e+12</td>\n",
       "      <td>F. Scott Fitzgerald</td>\n",
       "      <td>1925.0</td>\n",
       "      <td>The Great Gatsby</td>\n",
       "      <td>...</td>\n",
       "      <td>2683664</td>\n",
       "      <td>2773745</td>\n",
       "      <td>51992</td>\n",
       "      <td>86236</td>\n",
       "      <td>197621</td>\n",
       "      <td>606158</td>\n",
       "      <td>936012</td>\n",
       "      <td>947718</td>\n",
       "      <td>https://images.gr-assets.com/books/1490528560m...</td>\n",
       "      <td>https://images.gr-assets.com/books/1490528560s...</td>\n",
       "    </tr>\n",
       "  </tbody>\n",
       "</table>\n",
       "<p>5 rows × 23 columns</p>\n",
       "</div>"
      ],
      "text/plain": [
       "   book_id  goodreads_book_id  best_book_id  work_id  books_count       isbn  \\\n",
       "0        1            2767052       2767052  2792775          272  439023483   \n",
       "1        2                  3             3  4640799          491  439554934   \n",
       "2        3              41865         41865  3212258          226  316015849   \n",
       "3        4               2657          2657  3275794          487   61120081   \n",
       "4        5               4671          4671   245494         1356  743273567   \n",
       "\n",
       "         isbn13                      authors  original_publication_year  \\\n",
       "0  9.780439e+12              Suzanne Collins                     2008.0   \n",
       "1  9.780440e+12  J.K. Rowling, Mary GrandPré                     1997.0   \n",
       "2  9.780316e+12              Stephenie Meyer                     2005.0   \n",
       "3  9.780061e+12                   Harper Lee                     1960.0   \n",
       "4  9.780743e+12          F. Scott Fitzgerald                     1925.0   \n",
       "\n",
       "                             original_title  ... ratings_count  \\\n",
       "0                          The Hunger Games  ...       4780653   \n",
       "1  Harry Potter and the Philosopher's Stone  ...       4602479   \n",
       "2                                  Twilight  ...       3866839   \n",
       "3                     To Kill a Mockingbird  ...       3198671   \n",
       "4                          The Great Gatsby  ...       2683664   \n",
       "\n",
       "  work_ratings_count  work_text_reviews_count  ratings_1  ratings_2  \\\n",
       "0            4942365                   155254      66715     127936   \n",
       "1            4800065                    75867      75504     101676   \n",
       "2            3916824                    95009     456191     436802   \n",
       "3            3340896                    72586      60427     117415   \n",
       "4            2773745                    51992      86236     197621   \n",
       "\n",
       "   ratings_3  ratings_4  ratings_5  \\\n",
       "0     560092    1481305    2706317   \n",
       "1     455024    1156318    3011543   \n",
       "2     793319     875073    1355439   \n",
       "3     446835    1001952    1714267   \n",
       "4     606158     936012     947718   \n",
       "\n",
       "                                           image_url  \\\n",
       "0  https://images.gr-assets.com/books/1447303603m...   \n",
       "1  https://images.gr-assets.com/books/1474154022m...   \n",
       "2  https://images.gr-assets.com/books/1361039443m...   \n",
       "3  https://images.gr-assets.com/books/1361975680m...   \n",
       "4  https://images.gr-assets.com/books/1490528560m...   \n",
       "\n",
       "                                     small_image_url  \n",
       "0  https://images.gr-assets.com/books/1447303603s...  \n",
       "1  https://images.gr-assets.com/books/1474154022s...  \n",
       "2  https://images.gr-assets.com/books/1361039443s...  \n",
       "3  https://images.gr-assets.com/books/1361975680s...  \n",
       "4  https://images.gr-assets.com/books/1490528560s...  \n",
       "\n",
       "[5 rows x 23 columns]"
      ]
     },
     "execution_count": 17,
     "metadata": {},
     "output_type": "execute_result"
    }
   ],
   "source": [
    "# books\n",
    "books = pd.read_csv('books.csv')\n",
    "books.head()"
   ]
  },
  {
   "cell_type": "markdown",
   "metadata": {},
   "source": [
    "'books_count' is the number of editions for a given work. I'll change this name, for clarity, to **book_editions**:"
   ]
  },
  {
   "cell_type": "code",
   "execution_count": 18,
   "metadata": {},
   "outputs": [],
   "source": [
    "# renaming the number of editions column\n",
    "books = books.rename({'books_count': 'book_editions'}, axis=1)"
   ]
  },
  {
   "cell_type": "code",
   "execution_count": 19,
   "metadata": {},
   "outputs": [
    {
     "name": "stdout",
     "output_type": "stream",
     "text": [
      "<class 'pandas.core.frame.DataFrame'>\n",
      "RangeIndex: 10000 entries, 0 to 9999\n",
      "Data columns (total 23 columns):\n",
      "book_id                      10000 non-null int64\n",
      "goodreads_book_id            10000 non-null int64\n",
      "best_book_id                 10000 non-null int64\n",
      "work_id                      10000 non-null int64\n",
      "book_editions                10000 non-null int64\n",
      "isbn                         9300 non-null object\n",
      "isbn13                       9415 non-null float64\n",
      "authors                      10000 non-null object\n",
      "original_publication_year    9979 non-null float64\n",
      "original_title               9415 non-null object\n",
      "title                        10000 non-null object\n",
      "language_code                8916 non-null object\n",
      "average_rating               10000 non-null float64\n",
      "ratings_count                10000 non-null int64\n",
      "work_ratings_count           10000 non-null int64\n",
      "work_text_reviews_count      10000 non-null int64\n",
      "ratings_1                    10000 non-null int64\n",
      "ratings_2                    10000 non-null int64\n",
      "ratings_3                    10000 non-null int64\n",
      "ratings_4                    10000 non-null int64\n",
      "ratings_5                    10000 non-null int64\n",
      "image_url                    10000 non-null object\n",
      "small_image_url              10000 non-null object\n",
      "dtypes: float64(3), int64(13), object(7)\n",
      "memory usage: 1.8+ MB\n"
     ]
    }
   ],
   "source": [
    "# books info\n",
    "books.info()"
   ]
  },
  {
   "cell_type": "markdown",
   "metadata": {},
   "source": [
    " - **book_id, goodreads_book_id, best_book_id, and work_id** seem ok."
   ]
  },
  {
   "cell_type": "code",
   "execution_count": 20,
   "metadata": {},
   "outputs": [
    {
     "data": {
      "text/plain": [
       "10000"
      ]
     },
     "execution_count": 20,
     "metadata": {},
     "output_type": "execute_result"
    }
   ],
   "source": [
    "len(books.work_id.unique())"
   ]
  },
  {
   "cell_type": "code",
   "execution_count": 21,
   "metadata": {},
   "outputs": [
    {
     "data": {
      "text/plain": [
       "True"
      ]
     },
     "execution_count": 21,
     "metadata": {},
     "output_type": "execute_result"
    }
   ],
   "source": [
    "# number of unique work_id's\n",
    "len(books.work_id.unique()) == len(books.goodreads_book_id.unique())"
   ]
  },
  {
   "cell_type": "markdown",
   "metadata": {},
   "source": [
    " - There are some rows where the **isbn** and **isbn13** number are missing, but for now we will leave it like that and return later if necessary."
   ]
  },
  {
   "cell_type": "code",
   "execution_count": 22,
   "metadata": {},
   "outputs": [
    {
     "data": {
      "text/html": [
       "<div>\n",
       "<style scoped>\n",
       "    .dataframe tbody tr th:only-of-type {\n",
       "        vertical-align: middle;\n",
       "    }\n",
       "\n",
       "    .dataframe tbody tr th {\n",
       "        vertical-align: top;\n",
       "    }\n",
       "\n",
       "    .dataframe thead th {\n",
       "        text-align: right;\n",
       "    }\n",
       "</style>\n",
       "<table border=\"1\" class=\"dataframe\">\n",
       "  <thead>\n",
       "    <tr style=\"text-align: right;\">\n",
       "      <th></th>\n",
       "      <th>book_id</th>\n",
       "      <th>goodreads_book_id</th>\n",
       "      <th>best_book_id</th>\n",
       "      <th>work_id</th>\n",
       "      <th>book_editions</th>\n",
       "      <th>isbn</th>\n",
       "      <th>isbn13</th>\n",
       "      <th>authors</th>\n",
       "      <th>original_publication_year</th>\n",
       "      <th>original_title</th>\n",
       "      <th>...</th>\n",
       "      <th>ratings_count</th>\n",
       "      <th>work_ratings_count</th>\n",
       "      <th>work_text_reviews_count</th>\n",
       "      <th>ratings_1</th>\n",
       "      <th>ratings_2</th>\n",
       "      <th>ratings_3</th>\n",
       "      <th>ratings_4</th>\n",
       "      <th>ratings_5</th>\n",
       "      <th>image_url</th>\n",
       "      <th>small_image_url</th>\n",
       "    </tr>\n",
       "  </thead>\n",
       "  <tbody>\n",
       "    <tr>\n",
       "      <th>105</th>\n",
       "      <td>106</td>\n",
       "      <td>9418327</td>\n",
       "      <td>9418327</td>\n",
       "      <td>14302659</td>\n",
       "      <td>48</td>\n",
       "      <td>NaN</td>\n",
       "      <td>NaN</td>\n",
       "      <td>Tina Fey</td>\n",
       "      <td>2011.0</td>\n",
       "      <td>Bossypants</td>\n",
       "      <td>...</td>\n",
       "      <td>506250</td>\n",
       "      <td>609260</td>\n",
       "      <td>35142</td>\n",
       "      <td>14842</td>\n",
       "      <td>31761</td>\n",
       "      <td>129390</td>\n",
       "      <td>230080</td>\n",
       "      <td>203187</td>\n",
       "      <td>https://images.gr-assets.com/books/1481509554m...</td>\n",
       "      <td>https://images.gr-assets.com/books/1481509554s...</td>\n",
       "    </tr>\n",
       "    <tr>\n",
       "      <th>120</th>\n",
       "      <td>121</td>\n",
       "      <td>7604</td>\n",
       "      <td>7604</td>\n",
       "      <td>1268631</td>\n",
       "      <td>370</td>\n",
       "      <td>NaN</td>\n",
       "      <td>NaN</td>\n",
       "      <td>Vladimir Nabokov, Craig Raine</td>\n",
       "      <td>1955.0</td>\n",
       "      <td>Lolita</td>\n",
       "      <td>...</td>\n",
       "      <td>469836</td>\n",
       "      <td>517990</td>\n",
       "      <td>18107</td>\n",
       "      <td>21091</td>\n",
       "      <td>37205</td>\n",
       "      <td>108664</td>\n",
       "      <td>165477</td>\n",
       "      <td>185553</td>\n",
       "      <td>https://images.gr-assets.com/books/1377756377m...</td>\n",
       "      <td>https://images.gr-assets.com/books/1377756377s...</td>\n",
       "    </tr>\n",
       "    <tr>\n",
       "      <th>161</th>\n",
       "      <td>162</td>\n",
       "      <td>49552</td>\n",
       "      <td>49552</td>\n",
       "      <td>3324344</td>\n",
       "      <td>675</td>\n",
       "      <td>NaN</td>\n",
       "      <td>NaN</td>\n",
       "      <td>Albert Camus, Matthew    Ward</td>\n",
       "      <td>1942.0</td>\n",
       "      <td>L’Étranger</td>\n",
       "      <td>...</td>\n",
       "      <td>420600</td>\n",
       "      <td>483623</td>\n",
       "      <td>14836</td>\n",
       "      <td>10563</td>\n",
       "      <td>28920</td>\n",
       "      <td>100140</td>\n",
       "      <td>174957</td>\n",
       "      <td>169043</td>\n",
       "      <td>https://images.gr-assets.com/books/1349927872m...</td>\n",
       "      <td>https://images.gr-assets.com/books/1349927872s...</td>\n",
       "    </tr>\n",
       "    <tr>\n",
       "      <th>187</th>\n",
       "      <td>188</td>\n",
       "      <td>10664113</td>\n",
       "      <td>10664113</td>\n",
       "      <td>2936175</td>\n",
       "      <td>115</td>\n",
       "      <td>NaN</td>\n",
       "      <td>NaN</td>\n",
       "      <td>George R.R. Martin</td>\n",
       "      <td>2011.0</td>\n",
       "      <td>A Dance with Dragons</td>\n",
       "      <td>...</td>\n",
       "      <td>365954</td>\n",
       "      <td>424618</td>\n",
       "      <td>20072</td>\n",
       "      <td>2399</td>\n",
       "      <td>10150</td>\n",
       "      <td>53744</td>\n",
       "      <td>147136</td>\n",
       "      <td>211189</td>\n",
       "      <td>https://images.gr-assets.com/books/1327885335m...</td>\n",
       "      <td>https://images.gr-assets.com/books/1327885335s...</td>\n",
       "    </tr>\n",
       "    <tr>\n",
       "      <th>202</th>\n",
       "      <td>203</td>\n",
       "      <td>11505797</td>\n",
       "      <td>11505797</td>\n",
       "      <td>16441531</td>\n",
       "      <td>85</td>\n",
       "      <td>NaN</td>\n",
       "      <td>NaN</td>\n",
       "      <td>Jamie McGuire</td>\n",
       "      <td>2011.0</td>\n",
       "      <td>Beautiful Disaster</td>\n",
       "      <td>...</td>\n",
       "      <td>418309</td>\n",
       "      <td>442696</td>\n",
       "      <td>25298</td>\n",
       "      <td>17185</td>\n",
       "      <td>23298</td>\n",
       "      <td>61993</td>\n",
       "      <td>115123</td>\n",
       "      <td>225097</td>\n",
       "      <td>https://images.gr-assets.com/books/1358259032m...</td>\n",
       "      <td>https://images.gr-assets.com/books/1358259032s...</td>\n",
       "    </tr>\n",
       "  </tbody>\n",
       "</table>\n",
       "<p>5 rows × 23 columns</p>\n",
       "</div>"
      ],
      "text/plain": [
       "     book_id  goodreads_book_id  best_book_id   work_id  book_editions isbn  \\\n",
       "105      106            9418327       9418327  14302659             48  NaN   \n",
       "120      121               7604          7604   1268631            370  NaN   \n",
       "161      162              49552         49552   3324344            675  NaN   \n",
       "187      188           10664113      10664113   2936175            115  NaN   \n",
       "202      203           11505797      11505797  16441531             85  NaN   \n",
       "\n",
       "     isbn13                        authors  original_publication_year  \\\n",
       "105     NaN                       Tina Fey                     2011.0   \n",
       "120     NaN  Vladimir Nabokov, Craig Raine                     1955.0   \n",
       "161     NaN  Albert Camus, Matthew    Ward                     1942.0   \n",
       "187     NaN             George R.R. Martin                     2011.0   \n",
       "202     NaN                  Jamie McGuire                     2011.0   \n",
       "\n",
       "           original_title  ... ratings_count work_ratings_count  \\\n",
       "105            Bossypants  ...        506250             609260   \n",
       "120                Lolita  ...        469836             517990   \n",
       "161            L’Étranger  ...        420600             483623   \n",
       "187  A Dance with Dragons  ...        365954             424618   \n",
       "202    Beautiful Disaster  ...        418309             442696   \n",
       "\n",
       "     work_text_reviews_count  ratings_1  ratings_2  ratings_3  ratings_4  \\\n",
       "105                    35142      14842      31761     129390     230080   \n",
       "120                    18107      21091      37205     108664     165477   \n",
       "161                    14836      10563      28920     100140     174957   \n",
       "187                    20072       2399      10150      53744     147136   \n",
       "202                    25298      17185      23298      61993     115123   \n",
       "\n",
       "     ratings_5                                          image_url  \\\n",
       "105     203187  https://images.gr-assets.com/books/1481509554m...   \n",
       "120     185553  https://images.gr-assets.com/books/1377756377m...   \n",
       "161     169043  https://images.gr-assets.com/books/1349927872m...   \n",
       "187     211189  https://images.gr-assets.com/books/1327885335m...   \n",
       "202     225097  https://images.gr-assets.com/books/1358259032m...   \n",
       "\n",
       "                                       small_image_url  \n",
       "105  https://images.gr-assets.com/books/1481509554s...  \n",
       "120  https://images.gr-assets.com/books/1377756377s...  \n",
       "161  https://images.gr-assets.com/books/1349927872s...  \n",
       "187  https://images.gr-assets.com/books/1327885335s...  \n",
       "202  https://images.gr-assets.com/books/1358259032s...  \n",
       "\n",
       "[5 rows x 23 columns]"
      ]
     },
     "execution_count": 22,
     "metadata": {},
     "output_type": "execute_result"
    }
   ],
   "source": [
    "# where isbn miss\n",
    "books[books['isbn'].isna()].head()"
   ]
  },
  {
   "cell_type": "markdown",
   "metadata": {},
   "source": [
    "- **Authors**"
   ]
  },
  {
   "cell_type": "code",
   "execution_count": 23,
   "metadata": {},
   "outputs": [
    {
     "data": {
      "text/plain": [
       "4664"
      ]
     },
     "execution_count": 23,
     "metadata": {},
     "output_type": "execute_result"
    }
   ],
   "source": [
    "# number of unique authors\n",
    "len(books.authors.unique())"
   ]
  },
  {
   "cell_type": "markdown",
   "metadata": {},
   "source": [
    "- **Original publication year** - there are 21 missing values, but for now I will leave it like that."
   ]
  },
  {
   "cell_type": "code",
   "execution_count": 24,
   "metadata": {},
   "outputs": [
    {
     "data": {
      "text/plain": [
       "21"
      ]
     },
     "execution_count": 24,
     "metadata": {},
     "output_type": "execute_result"
    }
   ],
   "source": [
    "# original_publication_year missing values\n",
    "books['original_publication_year'].isna().sum()"
   ]
  },
  {
   "cell_type": "markdown",
   "metadata": {},
   "source": [
    "- The same with **original_title**"
   ]
  },
  {
   "cell_type": "code",
   "execution_count": 25,
   "metadata": {},
   "outputs": [
    {
     "data": {
      "text/plain": [
       "585"
      ]
     },
     "execution_count": 25,
     "metadata": {},
     "output_type": "execute_result"
    }
   ],
   "source": [
    "# - The same with **original_title** missing values\n",
    "books['original_title'].isna().sum()"
   ]
  },
  {
   "cell_type": "markdown",
   "metadata": {},
   "source": [
    "- **Title**"
   ]
  },
  {
   "cell_type": "code",
   "execution_count": 26,
   "metadata": {},
   "outputs": [
    {
     "data": {
      "text/plain": [
       "9964"
      ]
     },
     "execution_count": 26,
     "metadata": {},
     "output_type": "execute_result"
    }
   ],
   "source": [
    "# number of unique titles\n",
    "len(books.title.unique())"
   ]
  },
  {
   "cell_type": "code",
   "execution_count": 27,
   "metadata": {},
   "outputs": [
    {
     "name": "stdout",
     "output_type": "stream",
     "text": [
      "Selected Poems                               4\n",
      "Stone Soup                                   3\n",
      "Private (Private, #1)                        2\n",
      "The Girls                                    2\n",
      "Pinocchio                                    2\n",
      "The Witness                                  2\n",
      "Leviathan                                    2\n",
      "The Complete Poems                           2\n",
      "The Little Mermaid                           2\n",
      "Sisters                                      2\n",
      "The Collected Poems                          2\n",
      "The Complete Stories and Poems               2\n",
      "The Collector                                2\n",
      "Arcadia                                      2\n",
      "Bambi                                        2\n",
      "Invisible                                    2\n",
      "Are You My Mother?                           2\n",
      "The Son                                      2\n",
      "Monster                                      2\n",
      "Between the Lines (Between the Lines, #1)    2\n",
      "Selected Stories                             2\n",
      "One Flew Over the Cuckoo's Nest              2\n",
      "The List                                     2\n",
      "'Salem's Lot                                 2\n",
      "The Gift                                     2\n",
      "The Pact                                     2\n",
      "The Complete Stories                         2\n",
      "The Beach House                              2\n",
      "The Island                                   2\n",
      "Zodiac                                       2\n",
      "The Stranger                                 2\n",
      "Perfect                                      2\n",
      "Anatomy for the Artist                       2\n",
      "Name: title, dtype: int64\n",
      "\n",
      "Number of not unique titles: 33\n"
     ]
    }
   ],
   "source": [
    "# titles that are not unique\n",
    "print(books.title.value_counts()[:len([i for i in books.title.value_counts() if i > 1])])\n",
    "\n",
    "print(\"\\nNumber of not unique titles: {}\".format(len([i for i in books.title.value_counts() if i > 1])))"
   ]
  },
  {
   "cell_type": "code",
   "execution_count": 28,
   "metadata": {},
   "outputs": [
    {
     "name": "stdout",
     "output_type": "stream",
     "text": [
      "Number of rows with non-unique titles: 69\n",
      "Number of different authors: 66\n"
     ]
    }
   ],
   "source": [
    "# not unique titles\n",
    "titles_not_uniq = books.title.value_counts()[:len([i for i in books.title.value_counts() if i > 1])].index\n",
    "\n",
    "# check lines\n",
    "check_titles = books[books.title.isin(titles_not_uniq)]\n",
    "\n",
    "# number of them\n",
    "print(\"Number of rows with non-unique titles: {}\".format(check_titles.shape[0]))\n",
    "\n",
    "# number of different authors\n",
    "print(\"Number of different authors: {}\".format(len(check_titles.authors.unique())))\n"
   ]
  },
  {
   "cell_type": "code",
   "execution_count": 29,
   "metadata": {},
   "outputs": [
    {
     "data": {
      "text/html": [
       "<div>\n",
       "<style scoped>\n",
       "    .dataframe tbody tr th:only-of-type {\n",
       "        vertical-align: middle;\n",
       "    }\n",
       "\n",
       "    .dataframe tbody tr th {\n",
       "        vertical-align: top;\n",
       "    }\n",
       "\n",
       "    .dataframe thead th {\n",
       "        text-align: right;\n",
       "    }\n",
       "</style>\n",
       "<table border=\"1\" class=\"dataframe\">\n",
       "  <thead>\n",
       "    <tr style=\"text-align: right;\">\n",
       "      <th></th>\n",
       "      <th>book_id</th>\n",
       "      <th>goodreads_book_id</th>\n",
       "      <th>best_book_id</th>\n",
       "      <th>work_id</th>\n",
       "      <th>book_editions</th>\n",
       "      <th>isbn</th>\n",
       "      <th>isbn13</th>\n",
       "      <th>authors</th>\n",
       "      <th>original_publication_year</th>\n",
       "      <th>original_title</th>\n",
       "      <th>title</th>\n",
       "      <th>language_code</th>\n",
       "      <th>average_rating</th>\n",
       "      <th>ratings_count</th>\n",
       "      <th>work_ratings_count</th>\n",
       "    </tr>\n",
       "  </thead>\n",
       "  <tbody>\n",
       "    <tr>\n",
       "      <th>2371</th>\n",
       "      <td>2372</td>\n",
       "      <td>12716613</td>\n",
       "      <td>12716613</td>\n",
       "      <td>17851429</td>\n",
       "      <td>75</td>\n",
       "      <td>399159371</td>\n",
       "      <td>9.780399e+12</td>\n",
       "      <td>Nora Roberts</td>\n",
       "      <td>2012.0</td>\n",
       "      <td>The Witness</td>\n",
       "      <td>The Witness</td>\n",
       "      <td>NaN</td>\n",
       "      <td>4.19</td>\n",
       "      <td>40943</td>\n",
       "      <td>49415</td>\n",
       "    </tr>\n",
       "    <tr>\n",
       "      <th>5173</th>\n",
       "      <td>5174</td>\n",
       "      <td>18668066</td>\n",
       "      <td>18668066</td>\n",
       "      <td>26493730</td>\n",
       "      <td>52</td>\n",
       "      <td>399171088</td>\n",
       "      <td>9.780399e+12</td>\n",
       "      <td>Nora Roberts</td>\n",
       "      <td>2014.0</td>\n",
       "      <td>The Collector</td>\n",
       "      <td>The Collector</td>\n",
       "      <td>eng</td>\n",
       "      <td>3.92</td>\n",
       "      <td>15888</td>\n",
       "      <td>22703</td>\n",
       "    </tr>\n",
       "    <tr>\n",
       "      <th>7024</th>\n",
       "      <td>7025</td>\n",
       "      <td>26506</td>\n",
       "      <td>26506</td>\n",
       "      <td>1008958</td>\n",
       "      <td>52</td>\n",
       "      <td>385340222</td>\n",
       "      <td>9.780385e+12</td>\n",
       "      <td>Danielle Steel</td>\n",
       "      <td>2007.0</td>\n",
       "      <td>Sisters</td>\n",
       "      <td>Sisters</td>\n",
       "      <td>eng</td>\n",
       "      <td>3.81</td>\n",
       "      <td>13621</td>\n",
       "      <td>14641</td>\n",
       "    </tr>\n",
       "    <tr>\n",
       "      <th>7448</th>\n",
       "      <td>7449</td>\n",
       "      <td>6345193</td>\n",
       "      <td>6345193</td>\n",
       "      <td>6448995</td>\n",
       "      <td>44</td>\n",
       "      <td>805090800</td>\n",
       "      <td>9.780805e+12</td>\n",
       "      <td>Paul Auster</td>\n",
       "      <td>2009.0</td>\n",
       "      <td>Invisible</td>\n",
       "      <td>Invisible</td>\n",
       "      <td>eng</td>\n",
       "      <td>3.71</td>\n",
       "      <td>11706</td>\n",
       "      <td>13897</td>\n",
       "    </tr>\n",
       "    <tr>\n",
       "      <th>7461</th>\n",
       "      <td>7462</td>\n",
       "      <td>456</td>\n",
       "      <td>456</td>\n",
       "      <td>1128381</td>\n",
       "      <td>50</td>\n",
       "      <td>140178139</td>\n",
       "      <td>9.780140e+12</td>\n",
       "      <td>Paul Auster</td>\n",
       "      <td>1992.0</td>\n",
       "      <td>Leviathan</td>\n",
       "      <td>Leviathan</td>\n",
       "      <td>eng</td>\n",
       "      <td>3.95</td>\n",
       "      <td>10002</td>\n",
       "      <td>11794</td>\n",
       "    </tr>\n",
       "    <tr>\n",
       "      <th>7683</th>\n",
       "      <td>7684</td>\n",
       "      <td>59836</td>\n",
       "      <td>59836</td>\n",
       "      <td>1912773</td>\n",
       "      <td>55</td>\n",
       "      <td>440221315</td>\n",
       "      <td>9.780440e+12</td>\n",
       "      <td>Danielle Steel</td>\n",
       "      <td>1986.0</td>\n",
       "      <td>The Gift</td>\n",
       "      <td>The Gift</td>\n",
       "      <td>en-US</td>\n",
       "      <td>3.91</td>\n",
       "      <td>12382</td>\n",
       "      <td>13114</td>\n",
       "    </tr>\n",
       "  </tbody>\n",
       "</table>\n",
       "</div>"
      ],
      "text/plain": [
       "      book_id  goodreads_book_id  best_book_id   work_id  book_editions  \\\n",
       "2371     2372           12716613      12716613  17851429             75   \n",
       "5173     5174           18668066      18668066  26493730             52   \n",
       "7024     7025              26506         26506   1008958             52   \n",
       "7448     7449            6345193       6345193   6448995             44   \n",
       "7461     7462                456           456   1128381             50   \n",
       "7683     7684              59836         59836   1912773             55   \n",
       "\n",
       "           isbn        isbn13         authors  original_publication_year  \\\n",
       "2371  399159371  9.780399e+12    Nora Roberts                     2012.0   \n",
       "5173  399171088  9.780399e+12    Nora Roberts                     2014.0   \n",
       "7024  385340222  9.780385e+12  Danielle Steel                     2007.0   \n",
       "7448  805090800  9.780805e+12     Paul Auster                     2009.0   \n",
       "7461  140178139  9.780140e+12     Paul Auster                     1992.0   \n",
       "7683  440221315  9.780440e+12  Danielle Steel                     1986.0   \n",
       "\n",
       "     original_title          title language_code  average_rating  \\\n",
       "2371    The Witness    The Witness           NaN            4.19   \n",
       "5173  The Collector  The Collector           eng            3.92   \n",
       "7024        Sisters        Sisters           eng            3.81   \n",
       "7448      Invisible      Invisible           eng            3.71   \n",
       "7461      Leviathan      Leviathan           eng            3.95   \n",
       "7683       The Gift       The Gift         en-US            3.91   \n",
       "\n",
       "      ratings_count  work_ratings_count  \n",
       "2371          40943               49415  \n",
       "5173          15888               22703  \n",
       "7024          13621               14641  \n",
       "7448          11706               13897  \n",
       "7461          10002               11794  \n",
       "7683          12382               13114  "
      ]
     },
     "execution_count": 29,
     "metadata": {},
     "output_type": "execute_result"
    }
   ],
   "source": [
    "# which 3 authors repeat?\n",
    "repeat_auth = check_titles.authors.value_counts()[:3].index\n",
    "\n",
    "# check again\n",
    "books[(books.title.isin(titles_not_uniq)) & (books.authors.isin(repeat_auth))].iloc[:, :15]\n"
   ]
  },
  {
   "cell_type": "markdown",
   "metadata": {},
   "source": [
    "When comparing the title and author columns on these cases we see there is nothing wrong with the data. They just wrote a book with the same title than other author did, and not twice as we can see."
   ]
  },
  {
   "cell_type": "markdown",
   "metadata": {},
   "source": [
    "- **language_code** - everything seems to be ok. Regarding the missing values, I will leave it like that for now."
   ]
  },
  {
   "cell_type": "code",
   "execution_count": 30,
   "metadata": {},
   "outputs": [
    {
     "data": {
      "text/plain": [
       "eng      6341\n",
       "en-US    2070\n",
       "en-GB     257\n",
       "ara        64\n",
       "en-CA      58\n",
       "fre        25\n",
       "ind        21\n",
       "spa        20\n",
       "ger        13\n",
       "jpn         7\n",
       "per         7\n",
       "por         6\n",
       "pol         6\n",
       "en          4\n",
       "dan         3\n",
       "nor         3\n",
       "fil         2\n",
       "ita         2\n",
       "rum         1\n",
       "nl          1\n",
       "rus         1\n",
       "mul         1\n",
       "swe         1\n",
       "vie         1\n",
       "tur         1\n",
       "Name: language_code, dtype: int64"
      ]
     },
     "execution_count": 30,
     "metadata": {},
     "output_type": "execute_result"
    }
   ],
   "source": [
    "# different languages\n",
    "books.language_code.value_counts()"
   ]
  },
  {
   "cell_type": "code",
   "execution_count": 31,
   "metadata": {},
   "outputs": [
    {
     "data": {
      "text/html": [
       "<div>\n",
       "<style scoped>\n",
       "    .dataframe tbody tr th:only-of-type {\n",
       "        vertical-align: middle;\n",
       "    }\n",
       "\n",
       "    .dataframe tbody tr th {\n",
       "        vertical-align: top;\n",
       "    }\n",
       "\n",
       "    .dataframe thead th {\n",
       "        text-align: right;\n",
       "    }\n",
       "</style>\n",
       "<table border=\"1\" class=\"dataframe\">\n",
       "  <thead>\n",
       "    <tr style=\"text-align: right;\">\n",
       "      <th></th>\n",
       "      <th>book_id</th>\n",
       "      <th>goodreads_book_id</th>\n",
       "      <th>best_book_id</th>\n",
       "      <th>work_id</th>\n",
       "      <th>book_editions</th>\n",
       "      <th>isbn</th>\n",
       "      <th>isbn13</th>\n",
       "      <th>authors</th>\n",
       "      <th>original_publication_year</th>\n",
       "      <th>original_title</th>\n",
       "      <th>...</th>\n",
       "      <th>ratings_count</th>\n",
       "      <th>work_ratings_count</th>\n",
       "      <th>work_text_reviews_count</th>\n",
       "      <th>ratings_1</th>\n",
       "      <th>ratings_2</th>\n",
       "      <th>ratings_3</th>\n",
       "      <th>ratings_4</th>\n",
       "      <th>ratings_5</th>\n",
       "      <th>image_url</th>\n",
       "      <th>small_image_url</th>\n",
       "    </tr>\n",
       "  </thead>\n",
       "  <tbody>\n",
       "    <tr>\n",
       "      <th>44</th>\n",
       "      <td>45</td>\n",
       "      <td>4214</td>\n",
       "      <td>4214</td>\n",
       "      <td>1392700</td>\n",
       "      <td>264</td>\n",
       "      <td>770430074</td>\n",
       "      <td>9.780770e+12</td>\n",
       "      <td>Yann Martel</td>\n",
       "      <td>2001.0</td>\n",
       "      <td>Life of Pi</td>\n",
       "      <td>...</td>\n",
       "      <td>1003228</td>\n",
       "      <td>1077431</td>\n",
       "      <td>42962</td>\n",
       "      <td>39768</td>\n",
       "      <td>74331</td>\n",
       "      <td>218702</td>\n",
       "      <td>384164</td>\n",
       "      <td>360466</td>\n",
       "      <td>https://images.gr-assets.com/books/1320562005m...</td>\n",
       "      <td>https://images.gr-assets.com/books/1320562005s...</td>\n",
       "    </tr>\n",
       "    <tr>\n",
       "      <th>131</th>\n",
       "      <td>132</td>\n",
       "      <td>3431</td>\n",
       "      <td>3431</td>\n",
       "      <td>2561472</td>\n",
       "      <td>123</td>\n",
       "      <td>1401308589</td>\n",
       "      <td>9.781401e+12</td>\n",
       "      <td>Mitch Albom</td>\n",
       "      <td>2003.0</td>\n",
       "      <td>The Five People You Meet in Heaven</td>\n",
       "      <td>...</td>\n",
       "      <td>449501</td>\n",
       "      <td>474699</td>\n",
       "      <td>16682</td>\n",
       "      <td>12360</td>\n",
       "      <td>33669</td>\n",
       "      <td>107800</td>\n",
       "      <td>155830</td>\n",
       "      <td>165040</td>\n",
       "      <td>https://s.gr-assets.com/assets/nophoto/book/11...</td>\n",
       "      <td>https://s.gr-assets.com/assets/nophoto/book/50...</td>\n",
       "    </tr>\n",
       "    <tr>\n",
       "      <th>203</th>\n",
       "      <td>204</td>\n",
       "      <td>5326</td>\n",
       "      <td>5326</td>\n",
       "      <td>3097440</td>\n",
       "      <td>2380</td>\n",
       "      <td>1561797464</td>\n",
       "      <td>9.781562e+12</td>\n",
       "      <td>Charles Dickens</td>\n",
       "      <td>1843.0</td>\n",
       "      <td>A Christmas Carol</td>\n",
       "      <td>...</td>\n",
       "      <td>394540</td>\n",
       "      <td>441396</td>\n",
       "      <td>11568</td>\n",
       "      <td>6737</td>\n",
       "      <td>21415</td>\n",
       "      <td>93906</td>\n",
       "      <td>153823</td>\n",
       "      <td>165515</td>\n",
       "      <td>https://images.gr-assets.com/books/1406512317m...</td>\n",
       "      <td>https://images.gr-assets.com/books/1406512317s...</td>\n",
       "    </tr>\n",
       "    <tr>\n",
       "      <th>236</th>\n",
       "      <td>237</td>\n",
       "      <td>10592</td>\n",
       "      <td>10592</td>\n",
       "      <td>1552134</td>\n",
       "      <td>249</td>\n",
       "      <td>1416524304</td>\n",
       "      <td>9.781417e+12</td>\n",
       "      <td>Stephen King</td>\n",
       "      <td>1974.0</td>\n",
       "      <td>Carrie</td>\n",
       "      <td>...</td>\n",
       "      <td>356814</td>\n",
       "      <td>377650</td>\n",
       "      <td>8264</td>\n",
       "      <td>4564</td>\n",
       "      <td>19479</td>\n",
       "      <td>96352</td>\n",
       "      <td>136054</td>\n",
       "      <td>121201</td>\n",
       "      <td>https://s.gr-assets.com/assets/nophoto/book/11...</td>\n",
       "      <td>https://s.gr-assets.com/assets/nophoto/book/50...</td>\n",
       "    </tr>\n",
       "    <tr>\n",
       "      <th>287</th>\n",
       "      <td>288</td>\n",
       "      <td>19691</td>\n",
       "      <td>19691</td>\n",
       "      <td>1112006</td>\n",
       "      <td>117</td>\n",
       "      <td>425172902</td>\n",
       "      <td>9.780425e+12</td>\n",
       "      <td>Tom Clancy</td>\n",
       "      <td>1984.0</td>\n",
       "      <td>The Hunt for Red October</td>\n",
       "      <td>...</td>\n",
       "      <td>270318</td>\n",
       "      <td>278255</td>\n",
       "      <td>2117</td>\n",
       "      <td>9470</td>\n",
       "      <td>13707</td>\n",
       "      <td>49906</td>\n",
       "      <td>95296</td>\n",
       "      <td>109876</td>\n",
       "      <td>https://images.gr-assets.com/books/1281995542m...</td>\n",
       "      <td>https://images.gr-assets.com/books/1281995542s...</td>\n",
       "    </tr>\n",
       "  </tbody>\n",
       "</table>\n",
       "<p>5 rows × 23 columns</p>\n",
       "</div>"
      ],
      "text/plain": [
       "     book_id  goodreads_book_id  best_book_id  work_id  book_editions  \\\n",
       "44        45               4214          4214  1392700            264   \n",
       "131      132               3431          3431  2561472            123   \n",
       "203      204               5326          5326  3097440           2380   \n",
       "236      237              10592         10592  1552134            249   \n",
       "287      288              19691         19691  1112006            117   \n",
       "\n",
       "           isbn        isbn13          authors  original_publication_year  \\\n",
       "44    770430074  9.780770e+12      Yann Martel                     2001.0   \n",
       "131  1401308589  9.781401e+12      Mitch Albom                     2003.0   \n",
       "203  1561797464  9.781562e+12  Charles Dickens                     1843.0   \n",
       "236  1416524304  9.781417e+12     Stephen King                     1974.0   \n",
       "287   425172902  9.780425e+12       Tom Clancy                     1984.0   \n",
       "\n",
       "                         original_title  ... ratings_count work_ratings_count  \\\n",
       "44                           Life of Pi  ...       1003228            1077431   \n",
       "131  The Five People You Meet in Heaven  ...        449501             474699   \n",
       "203                   A Christmas Carol  ...        394540             441396   \n",
       "236                              Carrie  ...        356814             377650   \n",
       "287            The Hunt for Red October  ...        270318             278255   \n",
       "\n",
       "     work_text_reviews_count  ratings_1  ratings_2  ratings_3  ratings_4  \\\n",
       "44                     42962      39768      74331     218702     384164   \n",
       "131                    16682      12360      33669     107800     155830   \n",
       "203                    11568       6737      21415      93906     153823   \n",
       "236                     8264       4564      19479      96352     136054   \n",
       "287                     2117       9470      13707      49906      95296   \n",
       "\n",
       "     ratings_5                                          image_url  \\\n",
       "44      360466  https://images.gr-assets.com/books/1320562005m...   \n",
       "131     165040  https://s.gr-assets.com/assets/nophoto/book/11...   \n",
       "203     165515  https://images.gr-assets.com/books/1406512317m...   \n",
       "236     121201  https://s.gr-assets.com/assets/nophoto/book/11...   \n",
       "287     109876  https://images.gr-assets.com/books/1281995542m...   \n",
       "\n",
       "                                       small_image_url  \n",
       "44   https://images.gr-assets.com/books/1320562005s...  \n",
       "131  https://s.gr-assets.com/assets/nophoto/book/50...  \n",
       "203  https://images.gr-assets.com/books/1406512317s...  \n",
       "236  https://s.gr-assets.com/assets/nophoto/book/50...  \n",
       "287  https://images.gr-assets.com/books/1281995542s...  \n",
       "\n",
       "[5 rows x 23 columns]"
      ]
     },
     "execution_count": 31,
     "metadata": {},
     "output_type": "execute_result"
    }
   ],
   "source": [
    "# missing values\n",
    "books[books.language_code.isna()].head()"
   ]
  },
  {
   "cell_type": "markdown",
   "metadata": {},
   "source": [
    "- **average_rating** seems ok."
   ]
  },
  {
   "cell_type": "code",
   "execution_count": 32,
   "metadata": {},
   "outputs": [
    {
     "data": {
      "text/plain": [
       "4.002191000000001"
      ]
     },
     "execution_count": 32,
     "metadata": {},
     "output_type": "execute_result"
    }
   ],
   "source": [
    "# average rating of all books\n",
    "books['average_rating'].mean()"
   ]
  },
  {
   "cell_type": "code",
   "execution_count": 33,
   "metadata": {},
   "outputs": [
    {
     "data": {
      "text/plain": [
       "596873216"
      ]
     },
     "execution_count": 33,
     "metadata": {},
     "output_type": "execute_result"
    }
   ],
   "source": [
    "# number of ratings in all books\n",
    "books.work_ratings_count.sum()"
   ]
  },
  {
   "cell_type": "markdown",
   "metadata": {},
   "source": [
    "- **ratings_count** or **work_ratings_count**"
   ]
  },
  {
   "cell_type": "code",
   "execution_count": 34,
   "metadata": {},
   "outputs": [
    {
     "data": {
      "text/html": [
       "<div>\n",
       "<style scoped>\n",
       "    .dataframe tbody tr th:only-of-type {\n",
       "        vertical-align: middle;\n",
       "    }\n",
       "\n",
       "    .dataframe tbody tr th {\n",
       "        vertical-align: top;\n",
       "    }\n",
       "\n",
       "    .dataframe thead th {\n",
       "        text-align: right;\n",
       "    }\n",
       "</style>\n",
       "<table border=\"1\" class=\"dataframe\">\n",
       "  <thead>\n",
       "    <tr style=\"text-align: right;\">\n",
       "      <th></th>\n",
       "      <th>ratings_count</th>\n",
       "      <th>work_ratings_count</th>\n",
       "      <th>work_text_reviews_count</th>\n",
       "      <th>ratings_1</th>\n",
       "      <th>ratings_2</th>\n",
       "      <th>ratings_3</th>\n",
       "      <th>ratings_4</th>\n",
       "      <th>ratings_5</th>\n",
       "    </tr>\n",
       "  </thead>\n",
       "  <tbody>\n",
       "    <tr>\n",
       "      <th>0</th>\n",
       "      <td>4780653</td>\n",
       "      <td>4942365</td>\n",
       "      <td>155254</td>\n",
       "      <td>66715</td>\n",
       "      <td>127936</td>\n",
       "      <td>560092</td>\n",
       "      <td>1481305</td>\n",
       "      <td>2706317</td>\n",
       "    </tr>\n",
       "    <tr>\n",
       "      <th>1</th>\n",
       "      <td>4602479</td>\n",
       "      <td>4800065</td>\n",
       "      <td>75867</td>\n",
       "      <td>75504</td>\n",
       "      <td>101676</td>\n",
       "      <td>455024</td>\n",
       "      <td>1156318</td>\n",
       "      <td>3011543</td>\n",
       "    </tr>\n",
       "    <tr>\n",
       "      <th>2</th>\n",
       "      <td>3866839</td>\n",
       "      <td>3916824</td>\n",
       "      <td>95009</td>\n",
       "      <td>456191</td>\n",
       "      <td>436802</td>\n",
       "      <td>793319</td>\n",
       "      <td>875073</td>\n",
       "      <td>1355439</td>\n",
       "    </tr>\n",
       "    <tr>\n",
       "      <th>3</th>\n",
       "      <td>3198671</td>\n",
       "      <td>3340896</td>\n",
       "      <td>72586</td>\n",
       "      <td>60427</td>\n",
       "      <td>117415</td>\n",
       "      <td>446835</td>\n",
       "      <td>1001952</td>\n",
       "      <td>1714267</td>\n",
       "    </tr>\n",
       "    <tr>\n",
       "      <th>4</th>\n",
       "      <td>2683664</td>\n",
       "      <td>2773745</td>\n",
       "      <td>51992</td>\n",
       "      <td>86236</td>\n",
       "      <td>197621</td>\n",
       "      <td>606158</td>\n",
       "      <td>936012</td>\n",
       "      <td>947718</td>\n",
       "    </tr>\n",
       "  </tbody>\n",
       "</table>\n",
       "</div>"
      ],
      "text/plain": [
       "   ratings_count  work_ratings_count  work_text_reviews_count  ratings_1  \\\n",
       "0        4780653             4942365                   155254      66715   \n",
       "1        4602479             4800065                    75867      75504   \n",
       "2        3866839             3916824                    95009     456191   \n",
       "3        3198671             3340896                    72586      60427   \n",
       "4        2683664             2773745                    51992      86236   \n",
       "\n",
       "   ratings_2  ratings_3  ratings_4  ratings_5  \n",
       "0     127936     560092    1481305    2706317  \n",
       "1     101676     455024    1156318    3011543  \n",
       "2     436802     793319     875073    1355439  \n",
       "3     117415     446835    1001952    1714267  \n",
       "4     197621     606158     936012     947718  "
      ]
     },
     "execution_count": 34,
     "metadata": {},
     "output_type": "execute_result"
    }
   ],
   "source": [
    "# question\n",
    "books[['ratings_count', 'work_ratings_count', 'work_text_reviews_count', 'ratings_1' ,'ratings_2' ,'ratings_3',\n",
    "       'ratings_4' ,'ratings_5']].head()"
   ]
  },
  {
   "cell_type": "code",
   "execution_count": 35,
   "metadata": {},
   "outputs": [
    {
     "data": {
      "text/plain": [
       "10000"
      ]
     },
     "execution_count": 35,
     "metadata": {},
     "output_type": "execute_result"
    }
   ],
   "source": [
    "# check work_ratings_count\n",
    "(np.sum(books[['ratings_1' ,'ratings_2' ,'ratings_3', 'ratings_4' ,'ratings_5']], axis=1) == \n",
    " books['work_ratings_count']).sum()"
   ]
  },
  {
   "cell_type": "code",
   "execution_count": 36,
   "metadata": {},
   "outputs": [
    {
     "data": {
      "text/plain": [
       "14"
      ]
     },
     "execution_count": 36,
     "metadata": {},
     "output_type": "execute_result"
    }
   ],
   "source": [
    "# check ratings_count\n",
    "(np.sum(books[['ratings_1' ,'ratings_2' ,'ratings_3', 'ratings_4' ,'ratings_5']], axis=1) == \n",
    " books['ratings_count']).sum()"
   ]
  },
  {
   "cell_type": "markdown",
   "metadata": {},
   "source": [
    "It is the column **work_ratings_count** that corresponds to the total number of ratings per row/book."
   ]
  },
  {
   "cell_type": "markdown",
   "metadata": {},
   "source": [
    "- The columns representing the **ratings** from 1 to 5 seem ok, as **work_text_reviews_count** do."
   ]
  },
  {
   "cell_type": "markdown",
   "metadata": {},
   "source": [
    "- Finally, the last two columns - **image_url** and **small_image_url** - represent the image of the cover of the book. "
   ]
  },
  {
   "cell_type": "markdown",
   "metadata": {},
   "source": [
    "#### Access GoodReads API using the Goodreads package"
   ]
  },
  {
   "cell_type": "code",
   "execution_count": 37,
   "metadata": {},
   "outputs": [],
   "source": [
    "from goodreads import client\n",
    "gc = client.GoodreadsClient(KEY, SECRET)"
   ]
  },
  {
   "cell_type": "markdown",
   "metadata": {},
   "source": [
    "**+ Book description**"
   ]
  },
  {
   "cell_type": "markdown",
   "metadata": {},
   "source": [
    "- I will add a column in the books data frame regarding the **description** of each book, using the API: "
   ]
  },
  {
   "cell_type": "markdown",
   "metadata": {},
   "source": [
    "*Note: I did this separately in another notebook, and I will from now on use the file 'books_new.csv' instead of 'books.csv'*"
   ]
  },
  {
   "cell_type": "code",
   "execution_count": 40,
   "metadata": {},
   "outputs": [
    {
     "name": "stdout",
     "output_type": "stream",
     "text": [
      "Couldn't find program: 'false'\n"
     ]
    }
   ],
   "source": [
    "%%script false \n",
    "\n",
    "# create empty series\n",
    "books['description'] = np.empty\n",
    "\n",
    "# adding the book description - text column\n",
    "for i in range(len(books)):\n",
    "    try:\n",
    "        books['description'][i] = gc.book(books['goodreads_book_id'][i]).description\n",
    "    except:\n",
    "        None\n",
    "\n",
    "# save to a new file, named books_new\n",
    "books.to_csv('books_new.csv')"
   ]
  },
  {
   "cell_type": "code",
   "execution_count": 41,
   "metadata": {},
   "outputs": [
    {
     "data": {
      "text/html": [
       "<div>\n",
       "<style scoped>\n",
       "    .dataframe tbody tr th:only-of-type {\n",
       "        vertical-align: middle;\n",
       "    }\n",
       "\n",
       "    .dataframe tbody tr th {\n",
       "        vertical-align: top;\n",
       "    }\n",
       "\n",
       "    .dataframe thead th {\n",
       "        text-align: right;\n",
       "    }\n",
       "</style>\n",
       "<table border=\"1\" class=\"dataframe\">\n",
       "  <thead>\n",
       "    <tr style=\"text-align: right;\">\n",
       "      <th></th>\n",
       "      <th>book_id</th>\n",
       "      <th>goodreads_book_id</th>\n",
       "      <th>best_book_id</th>\n",
       "      <th>work_id</th>\n",
       "      <th>book_editions</th>\n",
       "      <th>isbn</th>\n",
       "      <th>isbn13</th>\n",
       "      <th>authors</th>\n",
       "      <th>original_publication_year</th>\n",
       "      <th>original_title</th>\n",
       "      <th>...</th>\n",
       "      <th>work_text_reviews_count</th>\n",
       "      <th>ratings_1</th>\n",
       "      <th>ratings_2</th>\n",
       "      <th>ratings_3</th>\n",
       "      <th>ratings_4</th>\n",
       "      <th>ratings_5</th>\n",
       "      <th>image_url</th>\n",
       "      <th>small_image_url</th>\n",
       "      <th>description</th>\n",
       "      <th>popular_shelves</th>\n",
       "    </tr>\n",
       "  </thead>\n",
       "  <tbody>\n",
       "    <tr>\n",
       "      <th>0</th>\n",
       "      <td>1</td>\n",
       "      <td>2767052</td>\n",
       "      <td>2767052</td>\n",
       "      <td>2792775</td>\n",
       "      <td>272</td>\n",
       "      <td>439023483</td>\n",
       "      <td>9.780439e+12</td>\n",
       "      <td>Suzanne Collins</td>\n",
       "      <td>2008.0</td>\n",
       "      <td>The Hunger Games</td>\n",
       "      <td>...</td>\n",
       "      <td>155254</td>\n",
       "      <td>66715</td>\n",
       "      <td>127936</td>\n",
       "      <td>560092</td>\n",
       "      <td>1481305</td>\n",
       "      <td>2706317</td>\n",
       "      <td>https://images.gr-assets.com/books/1447303603m...</td>\n",
       "      <td>https://images.gr-assets.com/books/1447303603s...</td>\n",
       "      <td>Could you survive on your own, in the wild, wi...</td>\n",
       "      <td>[to-read, favorites, currently-reading, young-...</td>\n",
       "    </tr>\n",
       "    <tr>\n",
       "      <th>1</th>\n",
       "      <td>2</td>\n",
       "      <td>3</td>\n",
       "      <td>3</td>\n",
       "      <td>4640799</td>\n",
       "      <td>491</td>\n",
       "      <td>439554934</td>\n",
       "      <td>9.780440e+12</td>\n",
       "      <td>J.K. Rowling, Mary GrandPré</td>\n",
       "      <td>1997.0</td>\n",
       "      <td>Harry Potter and the Philosopher's Stone</td>\n",
       "      <td>...</td>\n",
       "      <td>75867</td>\n",
       "      <td>75504</td>\n",
       "      <td>101676</td>\n",
       "      <td>455024</td>\n",
       "      <td>1156318</td>\n",
       "      <td>3011543</td>\n",
       "      <td>https://images.gr-assets.com/books/1474154022m...</td>\n",
       "      <td>https://images.gr-assets.com/books/1474154022s...</td>\n",
       "      <td>Harry Potter's life is miserable. His parents ...</td>\n",
       "      <td>[to-read, currently-reading, fantasy, favorite...</td>\n",
       "    </tr>\n",
       "    <tr>\n",
       "      <th>2</th>\n",
       "      <td>3</td>\n",
       "      <td>41865</td>\n",
       "      <td>41865</td>\n",
       "      <td>3212258</td>\n",
       "      <td>226</td>\n",
       "      <td>316015849</td>\n",
       "      <td>9.780316e+12</td>\n",
       "      <td>Stephenie Meyer</td>\n",
       "      <td>2005.0</td>\n",
       "      <td>Twilight</td>\n",
       "      <td>...</td>\n",
       "      <td>95009</td>\n",
       "      <td>456191</td>\n",
       "      <td>436802</td>\n",
       "      <td>793319</td>\n",
       "      <td>875073</td>\n",
       "      <td>1355439</td>\n",
       "      <td>https://images.gr-assets.com/books/1361039443m...</td>\n",
       "      <td>https://images.gr-assets.com/books/1361039443s...</td>\n",
       "      <td>&lt;b&gt;About three things I was absolutely positiv...</td>\n",
       "      <td>[to-read, currently-reading, young-adult, fant...</td>\n",
       "    </tr>\n",
       "  </tbody>\n",
       "</table>\n",
       "<p>3 rows × 25 columns</p>\n",
       "</div>"
      ],
      "text/plain": [
       "   book_id  goodreads_book_id  best_book_id  work_id  book_editions  \\\n",
       "0        1            2767052       2767052  2792775            272   \n",
       "1        2                  3             3  4640799            491   \n",
       "2        3              41865         41865  3212258            226   \n",
       "\n",
       "        isbn        isbn13                      authors  \\\n",
       "0  439023483  9.780439e+12              Suzanne Collins   \n",
       "1  439554934  9.780440e+12  J.K. Rowling, Mary GrandPré   \n",
       "2  316015849  9.780316e+12              Stephenie Meyer   \n",
       "\n",
       "   original_publication_year                            original_title  ...  \\\n",
       "0                     2008.0                          The Hunger Games  ...   \n",
       "1                     1997.0  Harry Potter and the Philosopher's Stone  ...   \n",
       "2                     2005.0                                  Twilight  ...   \n",
       "\n",
       "  work_text_reviews_count ratings_1  ratings_2  ratings_3  ratings_4  \\\n",
       "0                  155254     66715     127936     560092    1481305   \n",
       "1                   75867     75504     101676     455024    1156318   \n",
       "2                   95009    456191     436802     793319     875073   \n",
       "\n",
       "   ratings_5                                          image_url  \\\n",
       "0    2706317  https://images.gr-assets.com/books/1447303603m...   \n",
       "1    3011543  https://images.gr-assets.com/books/1474154022m...   \n",
       "2    1355439  https://images.gr-assets.com/books/1361039443m...   \n",
       "\n",
       "                                     small_image_url  \\\n",
       "0  https://images.gr-assets.com/books/1447303603s...   \n",
       "1  https://images.gr-assets.com/books/1474154022s...   \n",
       "2  https://images.gr-assets.com/books/1361039443s...   \n",
       "\n",
       "                                         description  \\\n",
       "0  Could you survive on your own, in the wild, wi...   \n",
       "1  Harry Potter's life is miserable. His parents ...   \n",
       "2  <b>About three things I was absolutely positiv...   \n",
       "\n",
       "                                     popular_shelves  \n",
       "0  [to-read, favorites, currently-reading, young-...  \n",
       "1  [to-read, currently-reading, fantasy, favorite...  \n",
       "2  [to-read, currently-reading, young-adult, fant...  \n",
       "\n",
       "[3 rows x 25 columns]"
      ]
     },
     "execution_count": 41,
     "metadata": {},
     "output_type": "execute_result"
    }
   ],
   "source": [
    "# new dataframe, with the column 'description' added\n",
    "books_new = pd.read_csv('books_new.csv').drop('Unnamed: 0', axis=1)\n",
    "books_new.head(3)"
   ]
  },
  {
   "cell_type": "code",
   "execution_count": 42,
   "metadata": {},
   "outputs": [
    {
     "data": {
      "text/plain": [
       "count                          9986\n",
       "unique                         2375\n",
       "top       <built-in function empty>\n",
       "freq                           7612\n",
       "Name: description, dtype: object"
      ]
     },
     "execution_count": 42,
     "metadata": {},
     "output_type": "execute_result"
    }
   ],
   "source": [
    "# see column 'description'\n",
    "books_new['description'].describe()"
   ]
  },
  {
   "cell_type": "markdown",
   "metadata": {},
   "source": [
    "There are 14 missing book descriptions."
   ]
  },
  {
   "cell_type": "code",
   "execution_count": 43,
   "metadata": {},
   "outputs": [
    {
     "data": {
      "text/plain": [
       "\"Could you survive on your own, in the wild, with everyone out to make sure you don't live to see the morning?<br /><br />In the ruins of a place once known as North America lies the nation of Panem, a shining Capitol surrounded by twelve outlying districts. The Capitol is harsh and cruel and keeps the districts in line by forcing them all to send one boy and one girl between the ages of twelve and eighteen to participate in the annual Hunger Games, a fight to the death on live TV. Sixteen-year-old Katniss Everdeen, who lives alone with her mother and younger sister, regards it as a death sentence when she is forced to represent her district in the Games. But Katniss has been close to dead before - and survival, for her, is second nature. Without really meaning to, she becomes a contender. But if she is to win, she will have to start making choices that weigh survival against humanity and life against love.<br /><br />New York Times bestselling author Suzanne Collins delivers equal parts suspense and philosophy, adventure and romance, in this searing novel set in a future with unsettling parallels to our present.<br />(front flap)\""
      ]
     },
     "execution_count": 43,
     "metadata": {},
     "output_type": "execute_result"
    }
   ],
   "source": [
    "# example of book description\n",
    "books_new['description'][0]"
   ]
  },
  {
   "cell_type": "markdown",
   "metadata": {},
   "source": [
    "**+ Popular shelves**"
   ]
  },
  {
   "cell_type": "markdown",
   "metadata": {},
   "source": [
    "- I will also add the **most popular shelves** the book is in, also using the Goodreads API"
   ]
  },
  {
   "cell_type": "code",
   "execution_count": 44,
   "metadata": {},
   "outputs": [
    {
     "name": "stdout",
     "output_type": "stream",
     "text": [
      "Couldn't find program: 'false'\n"
     ]
    }
   ],
   "source": [
    "%%script false \n",
    "\n",
    "# create empty series\n",
    "books['popular_shelves'] = np.empty\n",
    "\n",
    "# adding the most popular shelves - text column\n",
    "for i in range(len(books)):\n",
    "    try:\n",
    "        books['popular_shelves'][i] = gc.book(books['goodreads_book_id'][i]).popular_shelves\n",
    "    except:\n",
    "        None\n",
    "\n",
    "# save to the new file, named books_new - we can overwrite\n",
    "books.to_csv('books_new.csv')"
   ]
  },
  {
   "cell_type": "code",
   "execution_count": 45,
   "metadata": {},
   "outputs": [
    {
     "data": {
      "text/html": [
       "<div>\n",
       "<style scoped>\n",
       "    .dataframe tbody tr th:only-of-type {\n",
       "        vertical-align: middle;\n",
       "    }\n",
       "\n",
       "    .dataframe tbody tr th {\n",
       "        vertical-align: top;\n",
       "    }\n",
       "\n",
       "    .dataframe thead th {\n",
       "        text-align: right;\n",
       "    }\n",
       "</style>\n",
       "<table border=\"1\" class=\"dataframe\">\n",
       "  <thead>\n",
       "    <tr style=\"text-align: right;\">\n",
       "      <th></th>\n",
       "      <th>book_id</th>\n",
       "      <th>goodreads_book_id</th>\n",
       "      <th>best_book_id</th>\n",
       "      <th>work_id</th>\n",
       "      <th>book_editions</th>\n",
       "      <th>isbn</th>\n",
       "      <th>isbn13</th>\n",
       "      <th>authors</th>\n",
       "      <th>original_publication_year</th>\n",
       "      <th>original_title</th>\n",
       "      <th>...</th>\n",
       "      <th>work_text_reviews_count</th>\n",
       "      <th>ratings_1</th>\n",
       "      <th>ratings_2</th>\n",
       "      <th>ratings_3</th>\n",
       "      <th>ratings_4</th>\n",
       "      <th>ratings_5</th>\n",
       "      <th>image_url</th>\n",
       "      <th>small_image_url</th>\n",
       "      <th>description</th>\n",
       "      <th>popular_shelves</th>\n",
       "    </tr>\n",
       "  </thead>\n",
       "  <tbody>\n",
       "    <tr>\n",
       "      <th>0</th>\n",
       "      <td>1</td>\n",
       "      <td>2767052</td>\n",
       "      <td>2767052</td>\n",
       "      <td>2792775</td>\n",
       "      <td>272</td>\n",
       "      <td>439023483</td>\n",
       "      <td>9.780439e+12</td>\n",
       "      <td>Suzanne Collins</td>\n",
       "      <td>2008.0</td>\n",
       "      <td>The Hunger Games</td>\n",
       "      <td>...</td>\n",
       "      <td>155254</td>\n",
       "      <td>66715</td>\n",
       "      <td>127936</td>\n",
       "      <td>560092</td>\n",
       "      <td>1481305</td>\n",
       "      <td>2706317</td>\n",
       "      <td>https://images.gr-assets.com/books/1447303603m...</td>\n",
       "      <td>https://images.gr-assets.com/books/1447303603s...</td>\n",
       "      <td>Could you survive on your own, in the wild, wi...</td>\n",
       "      <td>[to-read, favorites, currently-reading, young-...</td>\n",
       "    </tr>\n",
       "    <tr>\n",
       "      <th>1</th>\n",
       "      <td>2</td>\n",
       "      <td>3</td>\n",
       "      <td>3</td>\n",
       "      <td>4640799</td>\n",
       "      <td>491</td>\n",
       "      <td>439554934</td>\n",
       "      <td>9.780440e+12</td>\n",
       "      <td>J.K. Rowling, Mary GrandPré</td>\n",
       "      <td>1997.0</td>\n",
       "      <td>Harry Potter and the Philosopher's Stone</td>\n",
       "      <td>...</td>\n",
       "      <td>75867</td>\n",
       "      <td>75504</td>\n",
       "      <td>101676</td>\n",
       "      <td>455024</td>\n",
       "      <td>1156318</td>\n",
       "      <td>3011543</td>\n",
       "      <td>https://images.gr-assets.com/books/1474154022m...</td>\n",
       "      <td>https://images.gr-assets.com/books/1474154022s...</td>\n",
       "      <td>Harry Potter's life is miserable. His parents ...</td>\n",
       "      <td>[to-read, currently-reading, fantasy, favorite...</td>\n",
       "    </tr>\n",
       "    <tr>\n",
       "      <th>2</th>\n",
       "      <td>3</td>\n",
       "      <td>41865</td>\n",
       "      <td>41865</td>\n",
       "      <td>3212258</td>\n",
       "      <td>226</td>\n",
       "      <td>316015849</td>\n",
       "      <td>9.780316e+12</td>\n",
       "      <td>Stephenie Meyer</td>\n",
       "      <td>2005.0</td>\n",
       "      <td>Twilight</td>\n",
       "      <td>...</td>\n",
       "      <td>95009</td>\n",
       "      <td>456191</td>\n",
       "      <td>436802</td>\n",
       "      <td>793319</td>\n",
       "      <td>875073</td>\n",
       "      <td>1355439</td>\n",
       "      <td>https://images.gr-assets.com/books/1361039443m...</td>\n",
       "      <td>https://images.gr-assets.com/books/1361039443s...</td>\n",
       "      <td>&lt;b&gt;About three things I was absolutely positiv...</td>\n",
       "      <td>[to-read, currently-reading, young-adult, fant...</td>\n",
       "    </tr>\n",
       "  </tbody>\n",
       "</table>\n",
       "<p>3 rows × 25 columns</p>\n",
       "</div>"
      ],
      "text/plain": [
       "   book_id  goodreads_book_id  best_book_id  work_id  book_editions  \\\n",
       "0        1            2767052       2767052  2792775            272   \n",
       "1        2                  3             3  4640799            491   \n",
       "2        3              41865         41865  3212258            226   \n",
       "\n",
       "        isbn        isbn13                      authors  \\\n",
       "0  439023483  9.780439e+12              Suzanne Collins   \n",
       "1  439554934  9.780440e+12  J.K. Rowling, Mary GrandPré   \n",
       "2  316015849  9.780316e+12              Stephenie Meyer   \n",
       "\n",
       "   original_publication_year                            original_title  ...  \\\n",
       "0                     2008.0                          The Hunger Games  ...   \n",
       "1                     1997.0  Harry Potter and the Philosopher's Stone  ...   \n",
       "2                     2005.0                                  Twilight  ...   \n",
       "\n",
       "  work_text_reviews_count ratings_1  ratings_2  ratings_3  ratings_4  \\\n",
       "0                  155254     66715     127936     560092    1481305   \n",
       "1                   75867     75504     101676     455024    1156318   \n",
       "2                   95009    456191     436802     793319     875073   \n",
       "\n",
       "   ratings_5                                          image_url  \\\n",
       "0    2706317  https://images.gr-assets.com/books/1447303603m...   \n",
       "1    3011543  https://images.gr-assets.com/books/1474154022m...   \n",
       "2    1355439  https://images.gr-assets.com/books/1361039443m...   \n",
       "\n",
       "                                     small_image_url  \\\n",
       "0  https://images.gr-assets.com/books/1447303603s...   \n",
       "1  https://images.gr-assets.com/books/1474154022s...   \n",
       "2  https://images.gr-assets.com/books/1361039443s...   \n",
       "\n",
       "                                         description  \\\n",
       "0  Could you survive on your own, in the wild, wi...   \n",
       "1  Harry Potter's life is miserable. His parents ...   \n",
       "2  <b>About three things I was absolutely positiv...   \n",
       "\n",
       "                                     popular_shelves  \n",
       "0  [to-read, favorites, currently-reading, young-...  \n",
       "1  [to-read, currently-reading, fantasy, favorite...  \n",
       "2  [to-read, currently-reading, young-adult, fant...  \n",
       "\n",
       "[3 rows x 25 columns]"
      ]
     },
     "execution_count": 45,
     "metadata": {},
     "output_type": "execute_result"
    }
   ],
   "source": [
    "# new dataframe, with the column 'popular_shelves' added\n",
    "books_new = pd.read_csv('books_new.csv').drop('Unnamed: 0', axis=1)\n",
    "books_new.head(3)"
   ]
  },
  {
   "cell_type": "code",
   "execution_count": 46,
   "metadata": {},
   "outputs": [
    {
     "data": {
      "text/plain": [
       "count                         10000\n",
       "unique                         8969\n",
       "top       <built-in function empty>\n",
       "freq                           1030\n",
       "Name: popular_shelves, dtype: object"
      ]
     },
     "execution_count": 46,
     "metadata": {},
     "output_type": "execute_result"
    }
   ],
   "source": [
    "# see column 'popular_shelves'\n",
    "books_new['popular_shelves'].describe()"
   ]
  },
  {
   "cell_type": "code",
   "execution_count": 47,
   "metadata": {},
   "outputs": [
    {
     "data": {
      "text/plain": [
       "'[to-read, favorites, currently-reading, young-adult, fiction, dystopian, ya, fantasy, dystopia, science-fiction, books-i-own, sci-fi, owned, series, favourites, romance, adventure, hunger-games, owned-books, book-club, kindle, teen, my-books, post-apocalyptic, the-hunger-games, favorite-books, read-in-2012, re-read, action, all-time-favorites, suzanne-collins, ya-fiction, 5-stars, books, sci-fi-fantasy, favorite, scifi, survival, audiobook, novels, ebook, i-own, audiobooks, young-adult-fiction, read-in-2011, thriller, my-favorites, default, library, ebooks, fantasy-sci-fi, reread, read-2012, faves, futuristic, my-library, suspense, audio, read-in-2010, shelfari-favorites, ya-books, ya-lit, favs, finished, teen-fiction, favorite-series, own-it, distopia, action-adventure, love-triangle, love, english, dystopian-fiction, coming-of-age, distopian, ya-fantasy, loved, novel, read-more-than-once, read-in-2013, borrowed, on-my-shelf, ya-dystopian, scifi-fantasy, favourite, bookshelf, to-buy, speculative-fiction, contemporary, my-bookshelf, 4-stars, favourite-books, trilogy, read-2011, re-reads, dystopias, 5-star, future, reviewed, e-book]'"
      ]
     },
     "execution_count": 47,
     "metadata": {},
     "output_type": "execute_result"
    }
   ],
   "source": [
    "# example of popular shelves of a book\n",
    "books_new['popular_shelves'][0]"
   ]
  },
  {
   "cell_type": "markdown",
   "metadata": {},
   "source": [
    "## 2) Exploratory Data Analysis\n",
    "<a id=\"eda\"></a>"
   ]
  },
  {
   "cell_type": "markdown",
   "metadata": {},
   "source": [
    "### **Tags**"
   ]
  },
  {
   "cell_type": "code",
   "execution_count": 48,
   "metadata": {},
   "outputs": [
    {
     "data": {
      "text/html": [
       "<div>\n",
       "<style scoped>\n",
       "    .dataframe tbody tr th:only-of-type {\n",
       "        vertical-align: middle;\n",
       "    }\n",
       "\n",
       "    .dataframe tbody tr th {\n",
       "        vertical-align: top;\n",
       "    }\n",
       "\n",
       "    .dataframe thead th {\n",
       "        text-align: right;\n",
       "    }\n",
       "</style>\n",
       "<table border=\"1\" class=\"dataframe\">\n",
       "  <thead>\n",
       "    <tr style=\"text-align: right;\">\n",
       "      <th></th>\n",
       "      <th>goodreads_book_id</th>\n",
       "      <th>tag_id</th>\n",
       "      <th>count</th>\n",
       "      <th>tag_name</th>\n",
       "    </tr>\n",
       "  </thead>\n",
       "  <tbody>\n",
       "    <tr>\n",
       "      <th>0</th>\n",
       "      <td>865</td>\n",
       "      <td>30574</td>\n",
       "      <td>596234</td>\n",
       "      <td>to-read</td>\n",
       "    </tr>\n",
       "    <tr>\n",
       "      <th>1</th>\n",
       "      <td>2429135</td>\n",
       "      <td>30574</td>\n",
       "      <td>586235</td>\n",
       "      <td>to-read</td>\n",
       "    </tr>\n",
       "    <tr>\n",
       "      <th>2</th>\n",
       "      <td>18143977</td>\n",
       "      <td>30574</td>\n",
       "      <td>505884</td>\n",
       "      <td>to-read</td>\n",
       "    </tr>\n",
       "    <tr>\n",
       "      <th>3</th>\n",
       "      <td>3</td>\n",
       "      <td>30574</td>\n",
       "      <td>496107</td>\n",
       "      <td>to-read</td>\n",
       "    </tr>\n",
       "    <tr>\n",
       "      <th>4</th>\n",
       "      <td>24280</td>\n",
       "      <td>30574</td>\n",
       "      <td>488469</td>\n",
       "      <td>to-read</td>\n",
       "    </tr>\n",
       "  </tbody>\n",
       "</table>\n",
       "</div>"
      ],
      "text/plain": [
       "   goodreads_book_id  tag_id   count tag_name\n",
       "0                865   30574  596234  to-read\n",
       "1            2429135   30574  586235  to-read\n",
       "2           18143977   30574  505884  to-read\n",
       "3                  3   30574  496107  to-read\n",
       "4              24280   30574  488469  to-read"
      ]
     },
     "execution_count": 48,
     "metadata": {},
     "output_type": "execute_result"
    }
   ],
   "source": [
    "# Exploring tags\n",
    "tags_df.head()"
   ]
  },
  {
   "cell_type": "markdown",
   "metadata": {},
   "source": [
    "### - **What are the most common tags?**"
   ]
  },
  {
   "cell_type": "code",
   "execution_count": 49,
   "metadata": {},
   "outputs": [
    {
     "data": {
      "image/png": "[encoded data removed]",
      "text/plain": [
       "<Figure size 432x288 with 1 Axes>"
      ]
     },
     "metadata": {
      "needs_background": "light"
     },
     "output_type": "display_data"
    }
   ],
   "source": [
    "n = 30\n",
    "\n",
    "# most tagged names\n",
    "tags_df['tag_name'].value_counts(ascending=True)[-n:].plot(kind='barh')\n",
    "\n",
    "plt.title(\"{} most common tags\".format(n), fontsize=16)\n",
    "plt.xlabel(\"Number of tags\")\n",
    "plt.ylabel(\"tag\")\n",
    "\n",
    "plt.subplots_adjust(left=0, bottom=-0.3, right=1.3, top=1, wspace=0, hspace=0)\n",
    "plt.show()"
   ]
  },
  {
   "cell_type": "markdown",
   "metadata": {},
   "source": [
    "Although \"to-read\" appears at the top of the list, some tags that have the same meaning easily surpass it when aggregated. For example, \"owned\", \"books-i-own\", owned-books\" and \"my-books\" means the same."
   ]
  },
  {
   "cell_type": "markdown",
   "metadata": {},
   "source": [
    "### - What are the most common genres? "
   ]
  },
  {
   "cell_type": "markdown",
   "metadata": {},
   "source": [
    "Let us take a look at the main genres. To do that I picked a list with genres from the web and added some relevant names. I will base the analysis on tag names."
   ]
  },
  {
   "cell_type": "code",
   "execution_count": 50,
   "metadata": {},
   "outputs": [],
   "source": [
    "# list of genres taken from the web, plus others added manually. Added the '-'\n",
    "genres = [\"Art\", \"Adventure\", \"Biography\", \"Business\", \"Chick-Lit\", \"Children\", \"Christian\", \"Classics\", \"Comics\", \n",
    "          \"Contemporary\", \"Cookbook\", \"Crime\", \"Fantasy\", \"Fiction\", \"Gay-and-Lesbian\", \"Graphic-Novels\",\n",
    "          \"Historical-Fiction\", \"Health\", \"History\", \"Horror\", \"Humor\", \"Comedy\", \"Manga\", \"Math\", \"Memoir\", \"Music\", \n",
    "          \"Mystery\", \"New-Age\", \"Nonfiction\", \"Paranormal\", \"Philosophy\", \"Poetry\", \"Psychology\", \"Religion\", \"Romance\",\n",
    "          \"Science\", \"Science-Fiction\", \"sci-fi-fantasy\", \"Self-Help\", \"Suspense\", \"Spirituality\", \"Sports\", \"Thriller\", \n",
    "          \"Travel\", \"Young-Adult\", \"adult\", \"novels\", \"action\", \"supernatural\", \"funny\", \"mystery-suspense\", \n",
    "         \"autobiography\", \"murder\", \"murder-mystery\", \"paranormal-fantasy\", \"spiritual\", \"satire\", \"short-story\",\n",
    "         \"picture\", \"political-thriller\", \"fairytale\", \"drama\", \"alternate-history\", \"novel\", \"graphic-novel\",\n",
    "         \"encyclopedia\", \"guide\"]\n",
    "\n",
    "# take lowercase\n",
    "genres = [i.lower() for i in genres]\n",
    "\n",
    "genres_df = pd.DataFrame({\n",
    "                'genre': genres,\n",
    "                'nr': [tags_df['tag_name'].value_counts().loc[genres[i]] for i in range(len(genres))]}).sort_values(\n",
    "    'nr', ascending=True).reset_index(drop=True)\n"
   ]
  },
  {
   "cell_type": "code",
   "execution_count": 51,
   "metadata": {},
   "outputs": [
    {
     "data": {
      "text/html": [
       "<div>\n",
       "<style scoped>\n",
       "    .dataframe tbody tr th:only-of-type {\n",
       "        vertical-align: middle;\n",
       "    }\n",
       "\n",
       "    .dataframe tbody tr th {\n",
       "        vertical-align: top;\n",
       "    }\n",
       "\n",
       "    .dataframe thead th {\n",
       "        text-align: right;\n",
       "    }\n",
       "</style>\n",
       "<table border=\"1\" class=\"dataframe\">\n",
       "  <thead>\n",
       "    <tr style=\"text-align: right;\">\n",
       "      <th></th>\n",
       "      <th>genre</th>\n",
       "      <th>nr</th>\n",
       "    </tr>\n",
       "  </thead>\n",
       "  <tbody>\n",
       "    <tr>\n",
       "      <th>0</th>\n",
       "      <td>encyclopedia</td>\n",
       "      <td>3</td>\n",
       "    </tr>\n",
       "    <tr>\n",
       "      <th>1</th>\n",
       "      <td>gay-and-lesbian</td>\n",
       "      <td>7</td>\n",
       "    </tr>\n",
       "    <tr>\n",
       "      <th>2</th>\n",
       "      <td>guide</td>\n",
       "      <td>17</td>\n",
       "    </tr>\n",
       "    <tr>\n",
       "      <th>3</th>\n",
       "      <td>math</td>\n",
       "      <td>54</td>\n",
       "    </tr>\n",
       "    <tr>\n",
       "      <th>4</th>\n",
       "      <td>new-age</td>\n",
       "      <td>63</td>\n",
       "    </tr>\n",
       "  </tbody>\n",
       "</table>\n",
       "</div>"
      ],
      "text/plain": [
       "             genre  nr\n",
       "0     encyclopedia   3\n",
       "1  gay-and-lesbian   7\n",
       "2            guide  17\n",
       "3             math  54\n",
       "4          new-age  63"
      ]
     },
     "execution_count": 51,
     "metadata": {},
     "output_type": "execute_result"
    }
   ],
   "source": [
    "# genres df\n",
    "genres_df.head()"
   ]
  },
  {
   "cell_type": "code",
   "execution_count": 52,
   "metadata": {},
   "outputs": [
    {
     "data": {
      "image/png": "[encoded data removed]",
      "text/plain": [
       "<Figure size 432x288 with 1 Axes>"
      ]
     },
     "metadata": {
      "needs_background": "light"
     },
     "output_type": "display_data"
    }
   ],
   "source": [
    "# barplot\n",
    "genres_df['nr'].plot(kind='barh', color='orange')\n",
    "\n",
    "plt.title(\"Most read genres\", fontsize=16)\n",
    "plt.yticks(np.arange(0, len(genres_df)), genres_df['genre'])\n",
    "\n",
    "plt.subplots_adjust(left=0, bottom=-2, right=2, top=1, wspace=0, hspace=0)\n",
    "plt.show()"
   ]
  },
  {
   "cell_type": "markdown",
   "metadata": {},
   "source": [
    "It seems that fiction books, mainly of the genre \"adult\", \"novel\"/\"romance\", \"contemporary\" and \"fantasy\" are amongst the most read genres by users."
   ]
  },
  {
   "cell_type": "markdown",
   "metadata": {},
   "source": [
    "### **Ratings**"
   ]
  },
  {
   "cell_type": "code",
   "execution_count": 53,
   "metadata": {},
   "outputs": [
    {
     "data": {
      "text/html": [
       "<div>\n",
       "<style scoped>\n",
       "    .dataframe tbody tr th:only-of-type {\n",
       "        vertical-align: middle;\n",
       "    }\n",
       "\n",
       "    .dataframe tbody tr th {\n",
       "        vertical-align: top;\n",
       "    }\n",
       "\n",
       "    .dataframe thead th {\n",
       "        text-align: right;\n",
       "    }\n",
       "</style>\n",
       "<table border=\"1\" class=\"dataframe\">\n",
       "  <thead>\n",
       "    <tr style=\"text-align: right;\">\n",
       "      <th></th>\n",
       "      <th>user_id</th>\n",
       "      <th>book_id</th>\n",
       "      <th>rating</th>\n",
       "    </tr>\n",
       "  </thead>\n",
       "  <tbody>\n",
       "    <tr>\n",
       "      <th>0</th>\n",
       "      <td>1</td>\n",
       "      <td>258</td>\n",
       "      <td>5</td>\n",
       "    </tr>\n",
       "    <tr>\n",
       "      <th>1</th>\n",
       "      <td>2</td>\n",
       "      <td>4081</td>\n",
       "      <td>4</td>\n",
       "    </tr>\n",
       "    <tr>\n",
       "      <th>2</th>\n",
       "      <td>2</td>\n",
       "      <td>260</td>\n",
       "      <td>5</td>\n",
       "    </tr>\n",
       "    <tr>\n",
       "      <th>3</th>\n",
       "      <td>2</td>\n",
       "      <td>9296</td>\n",
       "      <td>5</td>\n",
       "    </tr>\n",
       "    <tr>\n",
       "      <th>4</th>\n",
       "      <td>2</td>\n",
       "      <td>2318</td>\n",
       "      <td>3</td>\n",
       "    </tr>\n",
       "  </tbody>\n",
       "</table>\n",
       "</div>"
      ],
      "text/plain": [
       "   user_id  book_id  rating\n",
       "0        1      258       5\n",
       "1        2     4081       4\n",
       "2        2      260       5\n",
       "3        2     9296       5\n",
       "4        2     2318       3"
      ]
     },
     "execution_count": 53,
     "metadata": {},
     "output_type": "execute_result"
    }
   ],
   "source": [
    "ratings.head()"
   ]
  },
  {
   "cell_type": "markdown",
   "metadata": {},
   "source": [
    "### - **How are ratings distributed? Do people tend to give higher or lower ratings?**"
   ]
  },
  {
   "cell_type": "code",
   "execution_count": 54,
   "metadata": {},
   "outputs": [
    {
     "data": {
      "text/plain": [
       "5    1983093\n",
       "4    2139018\n",
       "3    1370916\n",
       "2     359257\n",
       "1     124195\n",
       "Name: rating, dtype: int64"
      ]
     },
     "execution_count": 54,
     "metadata": {},
     "output_type": "execute_result"
    }
   ],
   "source": [
    "# count ratings\n",
    "ratings['rating'].value_counts().sort_index(ascending=False)"
   ]
  },
  {
   "cell_type": "code",
   "execution_count": 55,
   "metadata": {},
   "outputs": [
    {
     "data": {
      "image/png": "[encoded data removed]",
      "text/plain": [
       "<Figure size 432x288 with 1 Axes>"
      ]
     },
     "metadata": {
      "needs_background": "light"
     },
     "output_type": "display_data"
    }
   ],
   "source": [
    "# count ratings\n",
    "sns.countplot(x='rating', data=ratings, color='darkseagreen')\n",
    "\n",
    "plt.title(\"Number of ratings\", fontsize=16)\n",
    "plt.xlabel(\"Rating\", fontsize=14)\n",
    "plt.ylabel(\"\", fontsize=14)\n",
    "\n",
    "# defining legend \n",
    "one = mlines.Line2D([], [], color='darkseagreen', label='1 star: \"did not like it\"')\n",
    "two = mlines.Line2D([], [], color='darkseagreen', label='2 stars: \"it was ok\"')\n",
    "three = mlines.Line2D([], [], color='darkseagreen', label='3 stars: \"liked it\"')\n",
    "four = mlines.Line2D([], [], color='darkseagreen', label='4 stars: \"really liked it\"')\n",
    "five = mlines.Line2D([], [], color='darkseagreen', label='5 stars: \"it was amazing\"')\n",
    "plt.legend(handles=[five, four, three, two, one], bbox_to_anchor=(1, 1), fontsize=13)\n",
    "\n",
    "plt.yticks(np.arange(0, 2500000, 250000), \n",
    "           [\"{}K\".format(250*i) for i in range(4)] + [\"{}M\".format(1+i*0.25) for i in range(0, 6)])\n",
    "\n",
    "plt.subplots_adjust(left=0, bottom=-0, right=1, top=1, wspace=0, hspace=0)\n",
    "plt.show()"
   ]
  },
  {
   "cell_type": "code",
   "execution_count": 56,
   "metadata": {},
   "outputs": [
    {
     "name": "stdout",
     "output_type": "stream",
     "text": [
      "4 and 5 stars percentage: 0.6897223264734972\n",
      "3, 4 and 5 stars percentage: 0.9191075547994061\n"
     ]
    }
   ],
   "source": [
    "# percentage of 4 and 5 stars\n",
    "print(\"4 and 5 stars percentage: {}\".format(ratings['rating'].isin([4, 5]).sum() / len(ratings)))\n",
    "print(\"3, 4 and 5 stars percentage: {}\".format(ratings['rating'].isin([3, 4, 5]).sum() / len(ratings)))"
   ]
  },
  {
   "cell_type": "code",
   "execution_count": 57,
   "metadata": {},
   "outputs": [
    {
     "name": "stdout",
     "output_type": "stream",
     "text": [
      "Ratings mean: 3.9\n",
      "Ratings median: 4.0\n"
     ]
    }
   ],
   "source": [
    "# average rating\n",
    "print(\"Ratings mean: {}\".format(round(ratings['rating'].mean(), 1)))\n",
    "print(\"Ratings median: {}\".format(round(ratings['rating'].median(), 1)))"
   ]
  },
  {
   "cell_type": "markdown",
   "metadata": {},
   "source": [
    "Regarding our users data set, we see that **almost 70%** of the ratings are classified as either **\"it was amazing\"** (5 stars) or **\"really liked it\"** (4 stars). We can say that in general users give good ratings. This is not surprising since this is a data set for only popular books and, among other reasons, the users are the ones who choose the books they are going to read and the topics they are going to pursue, according to their interests. If you add a **\"liked it\"** rating (3 stars), the percentage goes up to **91%**.\n",
    "\n",
    "The average rating is in fact 3.9, nearly close to a \"really liked it\" evaluation, which is very close to the mean of all books (596873216) data frame as we've seen above (4.002191000000001). The median is 4."
   ]
  },
  {
   "cell_type": "markdown",
   "metadata": {},
   "source": [
    "### - **Does the distribution of the number of ratings given follow a normal distribution?**"
   ]
  },
  {
   "cell_type": "code",
   "execution_count": 58,
   "metadata": {},
   "outputs": [
    {
     "name": "stdout",
     "output_type": "stream",
     "text": [
      "Number of users: 53424\n"
     ]
    }
   ],
   "source": [
    "# number of users\n",
    "print(\"Number of users: {}\".format(len(ratings['user_id'].unique())))"
   ]
  },
  {
   "cell_type": "code",
   "execution_count": 92,
   "metadata": {},
   "outputs": [
    {
     "data": {
      "image/png": "[encoded data removed]",
      "text/plain": [
       "<Figure size 432x288 with 1 Axes>"
      ]
     },
     "metadata": {
      "needs_background": "light"
     },
     "output_type": "display_data"
    }
   ],
   "source": [
    "# user's number of ratings given distribution\n",
    "\n",
    "list_ratings = list(ratings['user_id'].value_counts())\n",
    "\n",
    "# histogram\n",
    "sns.distplot(list_ratings)\n",
    "\n",
    "plt.title(\"Histogram: Number of ratings per user\", fontsize=16)\n",
    "plt.xlabel(\"Number of ratings\")\n",
    "plt.ylabel(\"Probability Density Function\")\n",
    "\n",
    "plt.subplots_adjust(left=0, bottom=-0, right=1, top=1, wspace=0, hspace=0)\n",
    "plt.show()"
   ]
  },
  {
   "cell_type": "markdown",
   "metadata": {},
   "source": [
    "The Kernel Density Estimate which can be seen in the plot above does not suggest that, but we will check with a normality test: D'Agostino's K-squared test. The null hypothesis assumes normality of the distribution."
   ]
  },
  {
   "cell_type": "code",
   "execution_count": 60,
   "metadata": {},
   "outputs": [
    {
     "name": "stdout",
     "output_type": "stream",
     "text": [
      "D'Agostino's K-squared test: statistic=460.696; p-value=0.000\n"
     ]
    }
   ],
   "source": [
    "# D'Agostino's K-squared test\n",
    "stat, p_value = normaltest(list_ratings)\n",
    "\n",
    "print(\"D'Agostino's K-squared test: statistic=%.3f; p-value=%.3f\" % (stat, p_value))"
   ]
  },
  {
   "cell_type": "markdown",
   "metadata": {},
   "source": [
    "Since the p-value is practically zero, we have the statistical evidence to **reject** the hypothesis that the number of ratings given follows a normal distribution. Looking at the distribution, we see that it is somewhat **left-skewed**."
   ]
  },
  {
   "cell_type": "markdown",
   "metadata": {},
   "source": [
    "### - **Can we have a 95% confidence interval for the mean of the ratings an user gives?**"
   ]
  },
  {
   "cell_type": "markdown",
   "metadata": {},
   "source": [
    "I'll assume that the data is representative of the population. The diversity in book genre is pretty widespread and users that rate the most popular books and have this many ratings given on average is good enough.\n",
    "\n",
    "We can make for now some inferences about the population of Goodreads users using the data in 'ratings.csv' (6 million ratings) - it may be useful when making recommendations later.\n",
    "\n",
    "The conditions for assuming the Central Limit Theorem implications are met here, since:\n",
    "\n",
    " - the sample is more or less symmetric and bigger than 30, the value normally assumed for the validity of the Central Limit Theorem.\n",
    " - there was no replacement when retrieving the sample, but the observations are considered to be independent, since they constitute less than 10% of the population size (the 10% rule).\n",
    " - the sample was taken randomly (I assumed that it was)."
   ]
  },
  {
   "cell_type": "code",
   "execution_count": 61,
   "metadata": {},
   "outputs": [
    {
     "data": {
      "text/plain": [
       "array([111.65212171, 112.09235128])"
      ]
     },
     "execution_count": 61,
     "metadata": {},
     "output_type": "execute_result"
    }
   ],
   "source": [
    "# create a bootstrap confidence interval for the mean\n",
    "\n",
    "# bootstrap replica function\n",
    "def bootstrap_replicate_1d(data, func):\n",
    "    return func(np.random.choice(data, size=len(data)))\n",
    "\n",
    "# Generate *size* bootstrap replicates function\n",
    "def draw_bs_reps(data, func, size=1):\n",
    "    return np.array([bootstrap_replicate_1d(data, func) for i in range(size)])\n",
    "\n",
    "\n",
    "# 10000 bootstrap replicas of the mean\n",
    "bs_replicates = draw_bs_reps(list_ratings, np.mean, 10000)\n",
    "\n",
    "# (Bootstrap) 95% Confidence interval - we apply the Central Limit Theorem\n",
    "conf_int = np.percentile(bs_replicates, [2.5, 97.5])\n",
    "conf_int"
   ]
  },
  {
   "cell_type": "code",
   "execution_count": 62,
   "metadata": {},
   "outputs": [
    {
     "data": {
      "text/plain": [
       "111.86880428271938"
      ]
     },
     "execution_count": 62,
     "metadata": {},
     "output_type": "execute_result"
    }
   ],
   "source": [
    "# observed mean\n",
    "np.mean(list_ratings)"
   ]
  },
  {
   "cell_type": "markdown",
   "metadata": {},
   "source": [
    "This is a pretty close range. **If we repeated measurements over and over again, 95% of the observed values for the mean of the number of ratings given by users would be very close to 112**."
   ]
  },
  {
   "cell_type": "code",
   "execution_count": 63,
   "metadata": {},
   "outputs": [
    {
     "data": {
      "image/png": "[encoded data removed]",
      "text/plain": [
       "<Figure size 432x288 with 1 Axes>"
      ]
     },
     "metadata": {
      "needs_background": "light"
     },
     "output_type": "display_data"
    }
   ],
   "source": [
    "# histogram\n",
    "sns.distplot(bs_replicates)\n",
    "\n",
    "plt.title(\"Bootstrap replicas of the mean of the number of ratings given\", fontsize=16)\n",
    "plt.xlabel(\"Mean Number of ratings given\")\n",
    "plt.ylabel(\"Probability Density Function\")\n",
    "\n",
    "plt.subplots_adjust(left=0, bottom=-0, right=1, top=1, wspace=0, hspace=0)\n",
    "plt.show()"
   ]
  },
  {
   "cell_type": "code",
   "execution_count": 64,
   "metadata": {},
   "outputs": [
    {
     "data": {
      "text/plain": [
       "0.1114822243718562"
      ]
     },
     "execution_count": 64,
     "metadata": {},
     "output_type": "execute_result"
    }
   ],
   "source": [
    "# Standard error of the mean (SEM) - from the bootstrap replicates\n",
    "np.std(bs_replicates)"
   ]
  },
  {
   "cell_type": "code",
   "execution_count": 65,
   "metadata": {},
   "outputs": [
    {
     "data": {
      "text/plain": [
       "0.11279482071209866"
      ]
     },
     "execution_count": 65,
     "metadata": {},
     "output_type": "execute_result"
    }
   ],
   "source": [
    "# Standard error of the mean (SEM) - known expression\n",
    "np.std(list_ratings) / np.sqrt(len(list_ratings))"
   ]
  },
  {
   "cell_type": "markdown",
   "metadata": {},
   "source": [
    "### - **Do DISTRIBUTIONS of ratings among users vary significantly?**"
   ]
  },
  {
   "cell_type": "code",
   "execution_count": 66,
   "metadata": {},
   "outputs": [
    {
     "name": "stdout",
     "output_type": "stream",
     "text": [
      "For a sample of 30 users:\n"
     ]
    },
    {
     "data": {
      "image/png": "[encoded data removed]",
      "text/plain": [
       "<Figure size 432x288 with 30 Axes>"
      ]
     },
     "metadata": {
      "needs_background": "light"
     },
     "output_type": "display_data"
    }
   ],
   "source": [
    "# Here are a sample of distributions among a sample of random users\n",
    "\n",
    "n = 30\n",
    "sample_users = np.random.choice(ratings['user_id'].unique(), size=n, replace=False)\n",
    "\n",
    "print(\"For a sample of {} users:\".format(n))\n",
    "\n",
    "for i, j in enumerate(sample_users):\n",
    "    row = n / 5 # want 5 plots per row\n",
    "    plt.subplot(row, 5, i+1)\n",
    "    sns.countplot(ratings[ratings['user_id'] == j].rating, color='darkblue')\n",
    "    plt.title(\"user {}\".format(sample_users[i]))\n",
    "    \n",
    "plt.subplots_adjust(left=0, bottom=-2.5, right=3, top=1, wspace=0.25, hspace=0.5)\n",
    "plt.show()\n"
   ]
  },
  {
   "cell_type": "markdown",
   "metadata": {},
   "source": [
    "It is straightforward to see that the distributions of ratings vary significantly among users. We can see right away that the average rating by users are also significantly different."
   ]
  },
  {
   "cell_type": "markdown",
   "metadata": {},
   "source": [
    "### - **How does the AVERAGE rating given by a user evolves as the number of his/her number of given ratings increases, on average? Do people tend to become more critic and give lower ratings?**"
   ]
  },
  {
   "cell_type": "markdown",
   "metadata": {},
   "source": [
    "I will first create a new data frame with user_id, number of ratings given and average rating."
   ]
  },
  {
   "cell_type": "code",
   "execution_count": 67,
   "metadata": {},
   "outputs": [
    {
     "name": "stdout",
     "output_type": "stream",
     "text": [
      "Couldn't find program: 'false'\n"
     ]
    }
   ],
   "source": [
    "%%script false \n",
    "\n",
    "# create dataframe with user_id, number of ratings given and average rating\n",
    "user_ratings = pd.DataFrame({'user_id': ratings['user_id'].value_counts().index, \n",
    "     'number_ratings': ratings['user_id'].value_counts(),\n",
    "     'avg_rating': [ratings[ratings['user_id'] == i].rating.mean() for i in ratings['user_id'].value_counts().index]})\n",
    "\n",
    "# save to disk\n",
    "user_ratings.to_csv('user_ratings.csv')"
   ]
  },
  {
   "cell_type": "code",
   "execution_count": 68,
   "metadata": {},
   "outputs": [
    {
     "data": {
      "text/html": [
       "<div>\n",
       "<style scoped>\n",
       "    .dataframe tbody tr th:only-of-type {\n",
       "        vertical-align: middle;\n",
       "    }\n",
       "\n",
       "    .dataframe tbody tr th {\n",
       "        vertical-align: top;\n",
       "    }\n",
       "\n",
       "    .dataframe thead th {\n",
       "        text-align: right;\n",
       "    }\n",
       "</style>\n",
       "<table border=\"1\" class=\"dataframe\">\n",
       "  <thead>\n",
       "    <tr style=\"text-align: right;\">\n",
       "      <th></th>\n",
       "      <th>user_id</th>\n",
       "      <th>number_ratings</th>\n",
       "      <th>avg_rating</th>\n",
       "    </tr>\n",
       "  </thead>\n",
       "  <tbody>\n",
       "    <tr>\n",
       "      <th>0</th>\n",
       "      <td>30944</td>\n",
       "      <td>200</td>\n",
       "      <td>4.210000</td>\n",
       "    </tr>\n",
       "    <tr>\n",
       "      <th>1</th>\n",
       "      <td>12874</td>\n",
       "      <td>200</td>\n",
       "      <td>3.450000</td>\n",
       "    </tr>\n",
       "    <tr>\n",
       "      <th>2</th>\n",
       "      <td>52036</td>\n",
       "      <td>199</td>\n",
       "      <td>3.442211</td>\n",
       "    </tr>\n",
       "    <tr>\n",
       "      <th>3</th>\n",
       "      <td>28158</td>\n",
       "      <td>199</td>\n",
       "      <td>3.939698</td>\n",
       "    </tr>\n",
       "    <tr>\n",
       "      <th>4</th>\n",
       "      <td>12381</td>\n",
       "      <td>199</td>\n",
       "      <td>3.427136</td>\n",
       "    </tr>\n",
       "  </tbody>\n",
       "</table>\n",
       "</div>"
      ],
      "text/plain": [
       "   user_id  number_ratings  avg_rating\n",
       "0    30944             200    4.210000\n",
       "1    12874             200    3.450000\n",
       "2    52036             199    3.442211\n",
       "3    28158             199    3.939698\n",
       "4    12381             199    3.427136"
      ]
     },
     "execution_count": 68,
     "metadata": {},
     "output_type": "execute_result"
    }
   ],
   "source": [
    "# load and check\n",
    "user_ratings = pd.read_csv('user_ratings.csv').drop('Unnamed: 0', axis=1)\n",
    "user_ratings.head()"
   ]
  },
  {
   "cell_type": "code",
   "execution_count": 91,
   "metadata": {},
   "outputs": [
    {
     "data": {
      "image/png": "[encoded data removed]",
      "text/plain": [
       "<Figure size 360x360 with 1 Axes>"
      ]
     },
     "metadata": {
      "needs_background": "light"
     },
     "output_type": "display_data"
    }
   ],
   "source": [
    "# relationship between number of ratings given and average rating\n",
    "sns.lmplot('number_ratings', 'avg_rating', data=user_ratings)\n",
    "plt.title(\"Relationship between number of ratings given and average rating\")\n",
    "plt.show()"
   ]
  },
  {
   "cell_type": "markdown",
   "metadata": {},
   "source": [
    "In order to properly see the relationship I am going to agglomerate the users with the same number of given ratings and compute the average of their average rating given. Otherwise I would have almost 6 million points on the scatter plot as seen above. In any case, it's a negative relationship."
   ]
  },
  {
   "cell_type": "code",
   "execution_count": 85,
   "metadata": {},
   "outputs": [
    {
     "data": {
      "image/png": "[encoded data removed]",
      "text/plain": [
       "<Figure size 360x360 with 1 Axes>"
      ]
     },
     "metadata": {
      "needs_background": "light"
     },
     "output_type": "display_data"
    }
   ],
   "source": [
    "# unique given number of ratings\n",
    "nr_ratings = user_ratings['number_ratings'].unique()\n",
    "\n",
    "# average of the average rating given \n",
    "avg_avg_rating = [user_ratings[user_ratings['number_ratings'] == i].avg_rating.mean() for i in nr_ratings]\n",
    "\n",
    "# new dataframe\n",
    "evolv_rating = pd.DataFrame({'nr_ratings': nr_ratings, 'avg_avg_rating': avg_avg_rating})\n",
    "\n",
    "# scatter plot\n",
    "sns.lmplot('nr_ratings', 'avg_avg_rating', data=evolv_rating, order=3, line_kws={'color': 'orange'}, \n",
    "          scatter_kws={'color': 'darkgreen'})\n",
    "\n",
    "plt.title(\"User perspective: More ratings = more criticism?\", fontsize=16)\n",
    "plt.xlabel(\"Number of ratings given\", fontsize=14)\n",
    "plt.ylabel(\"Average rating\", fontsize=14)\n",
    "\n",
    "plt.subplots_adjust(left=0, bottom=0, right=1.2, top=1, wspace=0, hspace=0)\n",
    "plt.show()\n"
   ]
  },
  {
   "cell_type": "markdown",
   "metadata": {},
   "source": [
    "Each point encompasses a different number of users. As we have seen in the previous histogram, most of the data resides between 75 and 150 ratings given. In fact, almost 90%, as computed below. Curiously, we see here that up until 75 ratings given by a \"user\" the average rating tends to increase and probably the enthusiasm for books and reading as well. After that, and until 150, which is exactly the range where most of the data is, the average rating linearly decreases as the number of ratings increase. It then spreads across the range between 3.5 and 4.6 without a clear tendency.\n",
    "\n",
    "**This may suggest that, on average, the user tends to become more critic and give lower ratings as it reads more books.**"
   ]
  },
  {
   "cell_type": "code",
   "execution_count": 70,
   "metadata": {},
   "outputs": [
    {
     "data": {
      "text/plain": [
       "array([ 71., 157.])"
      ]
     },
     "execution_count": 70,
     "metadata": {},
     "output_type": "execute_result"
    }
   ],
   "source": [
    "# percentile: 90% of the data regarding the number of ratings given is between\n",
    "data_90 = np.percentile(list_ratings, [5, 95])\n",
    "data_90"
   ]
  },
  {
   "cell_type": "markdown",
   "metadata": {},
   "source": [
    "Taking now a closer look at the relevant range, we see more clearly this negative relationship:"
   ]
  },
  {
   "cell_type": "code",
   "execution_count": 71,
   "metadata": {},
   "outputs": [
    {
     "data": {
      "image/png": "[encoded data removed]",
      "text/plain": [
       "<Figure size 360x360 with 1 Axes>"
      ]
     },
     "metadata": {
      "needs_background": "light"
     },
     "output_type": "display_data"
    }
   ],
   "source": [
    "# see the relationship within the relevant range\n",
    "new_nr_ratings = [i for i in nr_ratings if np.logical_and(i > data_90[0], i < data_90[1])]\n",
    "new_avg_avg_rating = list(compress(avg_avg_rating, np.logical_and(nr_ratings > data_90[0], nr_ratings < data_90[1])))\n",
    "\n",
    "# new dataframe\n",
    "evolv_rating_2 = pd.DataFrame({'new_nr_ratings': new_nr_ratings, 'new_avg_avg_rating': new_avg_avg_rating})\n",
    "\n",
    "# scatter plot\n",
    "sns.lmplot('new_nr_ratings', 'new_avg_avg_rating', data=evolv_rating_2, order=1, line_kws={'color': 'blue'}, \n",
    "          scatter_kws={'color': 'darkgreen'})\n",
    "\n",
    "plt.title(\"Zoom on the relevant range\", fontsize=16)\n",
    "plt.xlabel(\"Number of ratings given\", fontsize=14)\n",
    "plt.ylabel(\"Average rating\", fontsize=14)\n",
    "\n",
    "plt.subplots_adjust(left=0, bottom=-0, right=1.1, top=1, wspace=0, hspace=0)\n",
    "plt.show()"
   ]
  },
  {
   "cell_type": "code",
   "execution_count": 72,
   "metadata": {},
   "outputs": [
    {
     "data": {
      "text/plain": [
       "-0.8921774341616135"
      ]
     },
     "execution_count": 72,
     "metadata": {},
     "output_type": "execute_result"
    }
   ],
   "source": [
    "# Correlation coefficient\n",
    "np.corrcoef(new_nr_ratings, new_avg_avg_rating)[0, 1]"
   ]
  },
  {
   "cell_type": "markdown",
   "metadata": {},
   "source": [
    "There is a **very strong negative correlation** between the number of ratings an user has given and the average rating, suggesting, again, that the user tends to become less enthusiastic, on average, as he/she reads more books."
   ]
  },
  {
   "cell_type": "markdown",
   "metadata": {},
   "source": [
    "### - How does the average rating of a book relates with the number of ratings it has received?"
   ]
  },
  {
   "cell_type": "code",
   "execution_count": 86,
   "metadata": {},
   "outputs": [
    {
     "data": {
      "image/png": "[encoded data removed]",
      "text/plain": [
       "<Figure size 360x360 with 1 Axes>"
      ]
     },
     "metadata": {
      "needs_background": "light"
     },
     "output_type": "display_data"
    }
   ],
   "source": [
    "# lmplot\n",
    "sns.lmplot('work_ratings_count', 'average_rating', data=books_new)\n",
    "\n",
    "plt.title(\"Book perspective: Number of ratings received vs Average Rating\", fontsize=16)\n",
    "plt.xlabel(\"Number of ratings received\", fontsize=14)\n",
    "plt.ylabel(\"Average rating\", fontsize=14)\n",
    "\n",
    "plt.subplots_adjust(left=0, bottom=-0, right=1.1, top=1, wspace=0, hspace=0)\n",
    "plt.show()"
   ]
  },
  {
   "cell_type": "markdown",
   "metadata": {},
   "source": [
    "This shows us the **slight positive relationship between the number of ratings (or fame) a book has received and its average rating**."
   ]
  },
  {
   "cell_type": "code",
   "execution_count": 96,
   "metadata": {},
   "outputs": [
    {
     "data": {
      "text/plain": [
       "0.045041585239400515"
      ]
     },
     "execution_count": 96,
     "metadata": {},
     "output_type": "execute_result"
    }
   ],
   "source": [
    "# Correlation coefficient\n",
    "corr_coeff_observed = np.corrcoef(books_new['work_ratings_count'], books_new['average_rating'])[0, 1]\n",
    "corr_coeff_observed"
   ]
  },
  {
   "cell_type": "markdown",
   "metadata": {},
   "source": [
    "- Can we be sure this correlation is not by chance? To know that I will do a test of correlation."
   ]
  },
  {
   "cell_type": "markdown",
   "metadata": {},
   "source": [
    "**Hypothesis test:**\n",
    "    \n",
    "   - **Null hypothesis**: \"the two variables are completely uncorrelated\"\n",
    "   - **Alternate hypothesis**: \"the two variables are correlated\"\n",
    "   - **Test statistic**: \"pearson correlation coefficient\"    "
   ]
  },
  {
   "cell_type": "code",
   "execution_count": 98,
   "metadata": {},
   "outputs": [
    {
     "name": "stdout",
     "output_type": "stream",
     "text": [
      "\n",
      "p-value: 0.0057\n"
     ]
    }
   ],
   "source": [
    "# pearson correlation definition\n",
    "def pearson_corr_coeff(data_1, data_2):\n",
    "    return np.corrcoef(data_1, data_2)[0, 1]\n",
    "\n",
    "# 1 permutation formula\n",
    "def permutation_sample(data1, data2):\n",
    "    data = np.concatenate((data1, data2))\n",
    "    permuted_data = np.random.permutation(data)\n",
    "    perm_sample_1 = permuted_data[:len(data1)]\n",
    "    perm_sample_2 = permuted_data[len(data1):]\n",
    "    return perm_sample_1, perm_sample_2\n",
    "\n",
    "# permutations of size n\n",
    "def draw_perm_reps(data_1, data_2, func, size=1):\n",
    "    perm_replicates = np.empty(size)\n",
    "\n",
    "    for i in range(size):\n",
    "        perm_sample_1, perm_sample_2 = permutation_sample(data_1, data_2)\n",
    "        perm_replicates[i] = func(perm_sample_1, perm_sample_2)\n",
    "    return perm_replicates\n",
    "\n",
    "######################################\n",
    "\n",
    "# 10 000 permutations\n",
    "permutations = draw_perm_reps(books_new['work_ratings_count'], books_new['average_rating'], pearson_corr_coeff, size=10000)\n",
    "\n",
    "p_value = np.sum(permutations >= corr_coeff_observed) / len(permutations)\n",
    "\n",
    "print(\"\\np-value:\", p_value)"
   ]
  },
  {
   "cell_type": "markdown",
   "metadata": {},
   "source": [
    "We **reject the hypothesis that the two variables are not correlated**, considering a level of significance of 1%. As the number of ratings a book gets increases, the higher the chance that it will have a higher average rating. In any case, there is too much noise and the correlation is not clear."
   ]
  },
  {
   "cell_type": "markdown",
   "metadata": {},
   "source": [
    "###  - **How does the distribution of ratings given by a user evolves as the number of ratings increases, on average?**"
   ]
  },
  {
   "cell_type": "code",
   "execution_count": 73,
   "metadata": {},
   "outputs": [
    {
     "data": {
      "text/html": [
       "<div>\n",
       "<style scoped>\n",
       "    .dataframe tbody tr th:only-of-type {\n",
       "        vertical-align: middle;\n",
       "    }\n",
       "\n",
       "    .dataframe tbody tr th {\n",
       "        vertical-align: top;\n",
       "    }\n",
       "\n",
       "    .dataframe thead th {\n",
       "        text-align: right;\n",
       "    }\n",
       "</style>\n",
       "<table border=\"1\" class=\"dataframe\">\n",
       "  <thead>\n",
       "    <tr style=\"text-align: right;\">\n",
       "      <th></th>\n",
       "      <th>user_id</th>\n",
       "      <th>number_ratings</th>\n",
       "      <th>avg_rating</th>\n",
       "    </tr>\n",
       "  </thead>\n",
       "  <tbody>\n",
       "    <tr>\n",
       "      <th>0</th>\n",
       "      <td>30944</td>\n",
       "      <td>200</td>\n",
       "      <td>4.210000</td>\n",
       "    </tr>\n",
       "    <tr>\n",
       "      <th>1</th>\n",
       "      <td>12874</td>\n",
       "      <td>200</td>\n",
       "      <td>3.450000</td>\n",
       "    </tr>\n",
       "    <tr>\n",
       "      <th>2</th>\n",
       "      <td>52036</td>\n",
       "      <td>199</td>\n",
       "      <td>3.442211</td>\n",
       "    </tr>\n",
       "    <tr>\n",
       "      <th>3</th>\n",
       "      <td>28158</td>\n",
       "      <td>199</td>\n",
       "      <td>3.939698</td>\n",
       "    </tr>\n",
       "    <tr>\n",
       "      <th>4</th>\n",
       "      <td>12381</td>\n",
       "      <td>199</td>\n",
       "      <td>3.427136</td>\n",
       "    </tr>\n",
       "  </tbody>\n",
       "</table>\n",
       "</div>"
      ],
      "text/plain": [
       "   user_id  number_ratings  avg_rating\n",
       "0    30944             200    4.210000\n",
       "1    12874             200    3.450000\n",
       "2    52036             199    3.442211\n",
       "3    28158             199    3.939698\n",
       "4    12381             199    3.427136"
      ]
     },
     "execution_count": 73,
     "metadata": {},
     "output_type": "execute_result"
    }
   ],
   "source": [
    "# previously constructed data frame\n",
    "user_ratings.head()"
   ]
  },
  {
   "cell_type": "code",
   "execution_count": 74,
   "metadata": {},
   "outputs": [
    {
     "data": {
      "application/vnd.bokehjs_exec.v0+json": "",
      "text/html": [
       "\n",
       "<script src=\"http://localhost:61984/autoload.js?bokeh-autoload-element=1002&bokeh-absolute-url=http://localhost:61984&resources=none\" id=\"1002\"></script>"
      ]
     },
     "metadata": {
      "application/vnd.bokehjs_exec.v0+json": {
       "server_id": "12c429e2116a43789624c0007b6801cd"
      }
     },
     "output_type": "display_data"
    }
   ],
   "source": [
    "# bokeh\n",
    "\n",
    "# pick a spacely ordered group of different number of users (since they are ordered by ratings given in 'user_ratings')\n",
    "n = 99\n",
    "list_nr = user_ratings['user_id']  # they are by decreasing order of number of ratings given\n",
    "\n",
    "# bokeh plot\n",
    "def modify_doc(doc):\n",
    "    n = len(list_nr)-1\n",
    "    source = ColumnDataSource(\n",
    "        data={'ratings': np.arange(1, 6),\n",
    "            'counts': [ratings[ratings['user_id'] == list_nr[0]].rating.tolist().count(i) for i in np.arange(1, 6)]})\n",
    "    \n",
    "    # Create plots and widgets\n",
    "    plot = figure(width=600, height=400)\n",
    "    plot.vbar(x='ratings', top='counts', source=source, width=1)\n",
    "    \n",
    "    # Make a slider object: slider\n",
    "    slider = Slider(start=0, end=n, step=1, value=0, title='Distribution of ratings')\n",
    "\n",
    "    # Define the callback function: update_plot\n",
    "    def update_plot(attr, old, new):\n",
    "        \n",
    "        # Set the nr name to slider.value and new_data to source.data\n",
    "        nr = slider.value\n",
    "        \n",
    "        new_data = {'ratings': np.arange(1, 6),\n",
    "            'counts': [ratings[ratings['user_id'] == list_nr[nr]].rating.tolist().count(i) for i in np.arange(1, 6)]}\n",
    "        \n",
    "        source.data = new_data\n",
    "        \n",
    "        # Add title to figure: plot.title.text\n",
    "        plot.title.text = 'Ratings given by user {}: {}'.format(list_nr[nr], \n",
    "             np.sum([ratings[ratings['user_id'] == list_nr[nr]].rating.tolist().count(i) for i in np.arange(1, 6)]))\n",
    "\n",
    "\n",
    "    # Attach the callback to the 'value' property of slider\n",
    "    slider.on_change('value', update_plot)\n",
    "    \n",
    "    # Arrange plots and widgets in layouts\n",
    "    layout = column(slider, plot)\n",
    "    doc.add_root(layout)\n",
    "\n",
    "show(modify_doc) "
   ]
  },
  {
   "cell_type": "markdown",
   "metadata": {},
   "source": [
    "As we can see, there is also a **tendency to make the distribution skewed to the right, as the number of given ratings increase**."
   ]
  },
  {
   "cell_type": "markdown",
   "metadata": {},
   "source": [
    "### **Books**"
   ]
  },
  {
   "cell_type": "code",
   "execution_count": 75,
   "metadata": {},
   "outputs": [
    {
     "data": {
      "text/plain": [
       "Index(['book_id', 'goodreads_book_id', 'best_book_id', 'work_id',\n",
       "       'book_editions', 'isbn', 'isbn13', 'authors',\n",
       "       'original_publication_year', 'original_title', 'title', 'language_code',\n",
       "       'average_rating', 'ratings_count', 'work_ratings_count',\n",
       "       'work_text_reviews_count', 'ratings_1', 'ratings_2', 'ratings_3',\n",
       "       'ratings_4', 'ratings_5', 'image_url', 'small_image_url', 'description',\n",
       "       'popular_shelves'],\n",
       "      dtype='object')"
      ]
     },
     "execution_count": 75,
     "metadata": {},
     "output_type": "execute_result"
    }
   ],
   "source": [
    "# books_new\n",
    "books_new.columns"
   ]
  },
  {
   "cell_type": "markdown",
   "metadata": {},
   "source": [
    "### - What are the most famous books?"
   ]
  },
  {
   "cell_type": "code",
   "execution_count": 76,
   "metadata": {},
   "outputs": [
    {
     "data": {
      "image/png": "[encoded data removed]",
      "text/plain": [
       "<Figure size 432x288 with 1 Axes>"
      ]
     },
     "metadata": {
      "needs_background": "light"
     },
     "output_type": "display_data"
    }
   ],
   "source": [
    "n = 20\n",
    "\n",
    "# sorting by work_ratings_count\n",
    "famous_books = books_new.sort_values('work_ratings_count', ascending=True).title[-n:]\n",
    "famous_books_count_ratings = books_new.sort_values('work_ratings_count', ascending=True).work_ratings_count[-n:]\n",
    "\n",
    "famous_books_count_ratings.plot(kind='barh')\n",
    "\n",
    "plt.title(\"{} Most famous books\".format(n), fontsize=16)\n",
    "plt.xlabel(\"Number of ratings\", fontsize=14)\n",
    "plt.ylabel(\"Book\", fontsize=14)\n",
    "plt.yticks(np.arange(0, n), famous_books)\n",
    "\n",
    "plt.subplots_adjust(left=0, bottom=-0.5, right=2, top=1, wspace=0, hspace=0)\n",
    "plt.show()"
   ]
  },
  {
   "cell_type": "markdown",
   "metadata": {},
   "source": [
    "### - What are the most beloved books?"
   ]
  },
  {
   "cell_type": "code",
   "execution_count": 77,
   "metadata": {},
   "outputs": [
    {
     "data": {
      "image/png": "[encoded data removed]",
      "text/plain": [
       "<Figure size 432x288 with 1 Axes>"
      ]
     },
     "metadata": {
      "needs_background": "light"
     },
     "output_type": "display_data"
    }
   ],
   "source": [
    "n = 20\n",
    "\n",
    "# sorting by work_ratings_count\n",
    "famous_books = books_new.sort_values('average_rating', ascending=True).title[-n:]\n",
    "famous_books_avg_ratings = books_new.sort_values('average_rating', ascending=True).average_rating[-n:]\n",
    "\n",
    "sns.barplot(famous_books, famous_books_avg_ratings, palette=\"Blues_d\")\n",
    "\n",
    "plt.title(\"{} Most beloved books\".format(n), fontsize=16)\n",
    "plt.xlabel(\"Book\", fontsize=14)\n",
    "plt.ylabel(\"Average rating\", fontsize=14)\n",
    "plt.xticks(rotation=90)\n",
    "plt.axhline(y=famous_books_avg_ratings.max(), color='red', linestyle=\"--\")\n",
    "plt.annotate(famous_books_avg_ratings.iloc[-1], xy=(n-1.25, famous_books_avg_ratings.max()+0.1), va='center')\n",
    "\n",
    "plt.subplots_adjust(left=0, bottom=-0.5, right=2, top=1, wspace=0, hspace=0)\n",
    "plt.show()"
   ]
  },
  {
   "cell_type": "markdown",
   "metadata": {},
   "source": [
    "### - What are the most read languages?"
   ]
  },
  {
   "cell_type": "code",
   "execution_count": 78,
   "metadata": {},
   "outputs": [
    {
     "data": {
      "image/png": "[encoded data removed]",
      "text/plain": [
       "<Figure size 432x288 with 2 Axes>"
      ]
     },
     "metadata": {
      "needs_background": "light"
     },
     "output_type": "display_data"
    }
   ],
   "source": [
    "# Considering the english language\n",
    "plt.subplot(1, 2, 1)\n",
    "books_new['language_code'].value_counts(ascending=True).plot(kind='barh')\n",
    "plt.title(\"Most read languages\", fontsize=16)\n",
    "plt.xlabel(\"Number of books\")\n",
    "plt.ylabel(\"Language\")\n",
    "\n",
    "# not considering the english language\n",
    "english_lang = ['eng', 'en-US', 'en-CA', 'en-GB', 'en', np.nan]\n",
    "not_english = [i for i in Counter(books_new['language_code']).keys() if i not in english_lang]\n",
    "not_english_read = [Counter(books_new['language_code'])[j] for j in not_english]\n",
    "\n",
    "not_english_df = pd.DataFrame({'language': not_english, 'number': not_english_read}).sort_values(\n",
    "                                'number').reset_index(drop=True)\n",
    "\n",
    "plt.subplot(1, 2, 2)\n",
    "not_english_df['number'].plot(kind='barh')\n",
    "\n",
    "plt.title(\"Most read languages, excluding english\", fontsize=16)\n",
    "plt.xlabel(\"Number of books\")\n",
    "plt.ylabel(\"Language\")\n",
    "plt.yticks(np.arange(0, len(not_english_df)), not_english_df['language'])\n",
    "\n",
    "plt.subplots_adjust(left=0, bottom=-0.5, right=2, top=1, wspace=0.3, hspace=0)\n",
    "plt.show()"
   ]
  },
  {
   "cell_type": "markdown",
   "metadata": {},
   "source": [
    "English is by far the most read language, and almost the only one in this data set, in relative terms."
   ]
  },
  {
   "cell_type": "code",
   "execution_count": null,
   "metadata": {},
   "outputs": [],
   "source": []
  },
  {
   "cell_type": "code",
   "execution_count": null,
   "metadata": {},
   "outputs": [],
   "source": []
  },
  {
   "cell_type": "code",
   "execution_count": null,
   "metadata": {},
   "outputs": [],
   "source": []
  },
  {
   "cell_type": "code",
   "execution_count": null,
   "metadata": {},
   "outputs": [],
   "source": []
  },
  {
   "cell_type": "markdown",
   "metadata": {},
   "source": [
    "## 3) Recommendation system\n",
    "<a id=\"recommender\"></a>"
   ]
  },
  {
   "cell_type": "code",
   "execution_count": null,
   "metadata": {},
   "outputs": [],
   "source": []
  },
  {
   "cell_type": "code",
   "execution_count": null,
   "metadata": {},
   "outputs": [],
   "source": []
  },
  {
   "cell_type": "code",
   "execution_count": null,
   "metadata": {},
   "outputs": [],
   "source": []
  },
  {
   "cell_type": "code",
   "execution_count": null,
   "metadata": {},
   "outputs": [],
   "source": []
  },
  {
   "cell_type": "code",
   "execution_count": null,
   "metadata": {},
   "outputs": [],
   "source": []
  },
  {
   "cell_type": "code",
   "execution_count": null,
   "metadata": {},
   "outputs": [],
   "source": []
  },
  {
   "cell_type": "code",
   "execution_count": null,
   "metadata": {},
   "outputs": [],
   "source": []
  },
  {
   "cell_type": "code",
   "execution_count": null,
   "metadata": {},
   "outputs": [],
   "source": []
  },
  {
   "cell_type": "code",
   "execution_count": null,
   "metadata": {},
   "outputs": [],
   "source": []
  },
  {
   "cell_type": "code",
   "execution_count": null,
   "metadata": {},
   "outputs": [],
   "source": []
  },
  {
   "cell_type": "code",
   "execution_count": null,
   "metadata": {},
   "outputs": [],
   "source": []
  }
 ],
 "metadata": {
  "kernelspec": {
   "display_name": "Python 3",
   "language": "python",
   "name": "python3"
  },
  "language_info": {
   "codemirror_mode": {
    "name": "ipython",
    "version": 3
   },
   "file_extension": ".py",
   "mimetype": "text/x-python",
   "name": "python",
   "nbconvert_exporter": "python",
   "pygments_lexer": "ipython3",
   "version": "3.7.3"
  }
 },
 "nbformat": 4,
 "nbformat_minor": 2
}
